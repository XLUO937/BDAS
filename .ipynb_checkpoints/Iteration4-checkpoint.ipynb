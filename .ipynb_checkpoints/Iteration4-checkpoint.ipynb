{
 "cells": [
  {
   "cell_type": "markdown",
   "id": "755da075",
   "metadata": {},
   "source": [
    "This is the code document for INFOSYS 722 Iteration 4 from Xuan Luo and updated to Github"
   ]
  },
  {
   "cell_type": "code",
   "execution_count": 5,
   "id": "b30be5c1",
   "metadata": {},
   "outputs": [
    {
     "name": "stderr",
     "output_type": "stream",
     "text": [
      "WARNING: An illegal reflective access operation has occurred\n",
      "WARNING: Illegal reflective access by org.apache.spark.unsafe.Platform (file:/home/ubuntu/spark-3.2.1-bin-hadoop2.7/jars/spark-unsafe_2.12-3.2.1.jar) to constructor java.nio.DirectByteBuffer(long,int)\n",
      "WARNING: Please consider reporting this to the maintainers of org.apache.spark.unsafe.Platform\n",
      "WARNING: Use --illegal-access=warn to enable warnings of further illegal reflective access operations\n",
      "WARNING: All illegal access operations will be denied in a future release\n",
      "Using Spark's default log4j profile: org/apache/spark/log4j-defaults.properties\n",
      "Setting default log level to \"WARN\".\n",
      "To adjust logging level use sc.setLogLevel(newLevel). For SparkR, use setLogLevel(newLevel).\n",
      "23/10/11 05:05:51 WARN NativeCodeLoader: Unable to load native-hadoop library for your platform... using builtin-java classes where applicable\n"
     ]
    }
   ],
   "source": [
    "import findspark\n",
    "findspark.init('/home/ubuntu/spark-3.2.1-bin-hadoop2.7')\n",
    "import pyspark\n",
    "from pyspark.sql import SparkSession\n",
    "spark = SparkSession.builder.appName('basics').getOrCreate()"
   ]
  },
  {
   "cell_type": "code",
   "execution_count": 6,
   "id": "50402326",
   "metadata": {},
   "outputs": [
    {
     "name": "stderr",
     "output_type": "stream",
     "text": [
      "                                                                                \r"
     ]
    },
    {
     "name": "stdout",
     "output_type": "stream",
     "text": [
      "+--------------+--------------------+--------+------------+----------+-----------+----------+--------+---------+------+-----------+----------+----------+-----+--------------+------------------+----------------+--------------------------+----------------------+\n",
      "|General_Health|             Checkup|Exercise|HeartDisease|SkinCancer|OtherCancer|Depression|Diabetes|Arthritis|   Sex|AgeCategory|Height(cm)|Weight(kg)|  BMI|SmokingHistory|AlcoholConsumption|FruitConsumption|GreenVegetablesConsumption|FriedPotatoConsumption|\n",
      "+--------------+--------------------+--------+------------+----------+-----------+----------+--------+---------+------+-----------+----------+----------+-----+--------------+------------------+----------------+--------------------------+----------------------+\n",
      "|          Poor|Within the past 2...|      No|          No|        No|         No|        No|      No|      Yes|Female|      70-74|       150|     32.66|14.54|           Yes|                 0|              30|                        16|                    12|\n",
      "|     Very Good|Within the past year|      No|         Yes|        No|         No|        No|     Yes|       No|Female|      70-74|       165|     77.11|28.29|            No|                 0|              30|                         0|                     4|\n",
      "|     Very Good|Within the past year|     Yes|          No|        No|         No|        No|     Yes|       No|Female|      60-64|       163|     88.45|33.47|            No|                 4|              12|                         3|                    16|\n",
      "|          Poor|Within the past year|     Yes|         Yes|        No|         No|        No|     Yes|       No|  Male|      75-79|       180|     93.44|28.73|            No|                 0|              30|                        30|                     8|\n",
      "|          Good|Within the past year|      No|          No|        No|         No|        No|      No|       No|  Male|        80+|       191|     88.45|24.37|           Yes|                 0|               8|                         4|                     0|\n",
      "|          Good|Within the past year|      No|          No|        No|         No|       Yes|      No|      Yes|  Male|      60-64|       183|    154.22|46.11|            No|                 0|              12|                        12|                    12|\n",
      "|          Fair|Within the past year|     Yes|         Yes|        No|         No|        No|      No|      Yes|  Male|      60-64|       175|     69.85|22.74|           Yes|                 0|              16|                         8|                     0|\n",
      "|          Good|Within the past year|     Yes|          No|        No|         No|        No|      No|      Yes|Female|      65-69|       165|    108.86|39.94|           Yes|                 3|              30|                         8|                     8|\n",
      "|          Fair|Within the past year|      No|          No|        No|         No|       Yes|      No|       No|Female|      65-69|       163|     72.57|27.46|           Yes|                 0|              12|                        12|                     4|\n",
      "|          Fair|Within the past year|      No|          No|        No|         No|        No|     Yes|      Yes|Female|      70-74|       163|     91.63|34.67|            No|                 0|              12|                        12|                     1|\n",
      "|          Fair|Within the past year|     Yes|         Yes|        No|         No|        No|      No|      Yes|Female|      75-79|       160|     74.84|29.23|            No|                 0|              30|                        20|                     2|\n",
      "|          Fair|Within the past year|      No|         Yes|       Yes|         No|        No|     Yes|       No|  Male|      75-79|       175|     73.48|23.92|            No|                 0|               2|                         8|                    30|\n",
      "|     Very Good|Within the past year|      No|          No|        No|         No|       Yes|      No|       No|Female|      50-54|       168|     83.91|29.86|            No|                 8|               8|                         0|                     2|\n",
      "|          Fair|Within the past year|      No|          No|       Yes|         No|        No|      No|       No|  Male|      65-69|       178|     113.4|35.87|           Yes|                 4|               2|                         3|                     4|\n",
      "|     Excellent|Within the past 2...|     Yes|          No|        No|         No|        No|      No|       No|Female|      70-74|       152|     52.16|22.46|            No|                 0|              30|                         4|                     0|\n",
      "|          Fair|Within the past year|      No|          No|        No|         No|        No|     Yes|      Yes|Female|      70-74|       163|    116.12|43.94|            No|                 0|               8|                         8|                     4|\n",
      "|          Good|Within the past year|      No|          No|        No|         No|        No|      No|       No|  Male|        80+|       183|     99.79|29.84|            No|                 0|               1|                         4|                    20|\n",
      "|     Very Good|Within the past year|     Yes|          No|        No|         No|        No|      No|      Yes|  Male|        80+|       168|     81.65|29.05|            No|                30|              30|                        12|                     8|\n",
      "|          Fair|Within the past year|     Yes|          No|        No|         No|        No|     Yes|       No|  Male|      45-49|       178|    104.33| 33.0|           Yes|                 2|              16|                        12|                     8|\n",
      "|          Good|Within the past year|      No|          No|       Yes|        Yes|        No|     Yes|      Yes|Female|      70-74|       163|     79.38|30.04|            No|                 0|              12|                         8|                     4|\n",
      "+--------------+--------------------+--------+------------+----------+-----------+----------+--------+---------+------+-----------+----------+----------+-----+--------------+------------------+----------------+--------------------------+----------------------+\n",
      "only showing top 20 rows\n",
      "\n",
      "+--------------+--------------------+--------+------------+----------+-----------+----------+--------------------+---------+------+-----------+----------+----------+-----+--------------+------------------+----------------+--------------------------+----------------------+\n",
      "|General_Health|             Checkup|Exercise|HeartDisease|SkinCancer|OtherCancer|Depression|            Diabetes|Arthritis|   Sex|AgeCategory|Height(cm)|Weight(kg)|  BMI|SmokingHistory|AlcoholConsumption|FruitConsumption|GreenVegetablesConsumption|FriedPotatoConsumption|\n",
      "+--------------+--------------------+--------+------------+----------+-----------+----------+--------------------+---------+------+-----------+----------+----------+-----+--------------+------------------+----------------+--------------------------+----------------------+\n",
      "|          Good|Within the past year|     Yes|          No|        No|         No|        No|                  No|       No|  Male|      35-39|       170|     84.82|29.29|           Yes|                 0|              60|                        30|                     4|\n",
      "|     Excellent|Within the past year|     Yes|          No|        No|        Yes|        No|                  No|      Yes|Female|      50-54|       150|     58.97|26.26|           Yes|                12|              30|                        30|                    20|\n",
      "|          Fair|Within the past year|     Yes|         Yes|        No|         No|        No|No, pre-diabetes ...|       No|  Male|      70-74|       175|     92.53|30.13|           Yes|                 0|              16|                        12|                     1|\n",
      "|     Very Good|Within the past year|      No|          No|        No|         No|        No|                  No|       No|  Male|      70-74|       183|     83.91|25.09|            No|                 1|               5|                         2|                    20|\n",
      "|          Fair| 5 or more years ago|     Yes|          No|        No|         No|       Yes|                 Yes|       No|  Male|      40-44|       173|    124.74|41.81|           Yes|                 0|               0|                        12|                     0|\n",
      "|     Excellent|Within the past year|     Yes|          No|       Yes|         No|        No|                  No|      Yes|Female|        80+|       168|     54.43|19.37|            No|                15|              30|                        30|                     0|\n",
      "|     Very Good|Within the past 2...|     Yes|          No|        No|         No|        No|                  No|       No|  Male|      40-44|       183|    102.06|30.52|            No|                10|              30|                        12|                     1|\n",
      "|     Very Good|Within the past year|     Yes|          No|        No|         No|        No|                  No|       No|  Male|      55-59|       178|     79.38|25.11|           Yes|                12|               8|                        16|                     8|\n",
      "|     Very Good|Within the past year|     Yes|          No|        No|         No|        No|                  No|       No|  Male|      35-39|       183|     95.25|28.48|           Yes|                 8|              30|                        30|                     2|\n",
      "|     Very Good|Within the past 5...|     Yes|          No|        No|         No|        No|                  No|       No|  Male|      18-24|       178|     72.57|22.96|            No|                15|              20|                         0|                     0|\n",
      "|     Very Good|Within the past 2...|     Yes|          No|        No|         No|        No|                  No|       No|  Male|      35-39|       178|     72.57|22.96|           Yes|                 0|              30|                         2|                     4|\n",
      "|     Very Good|Within the past 2...|     Yes|          No|        No|         No|        No|                  No|       No|  Male|      55-59|       178|     83.91|26.54|            No|                10|              30|                         4|                     4|\n",
      "|     Very Good|Within the past year|      No|          No|        No|         No|        No|                  No|      Yes|  Male|      50-54|       185|    117.93| 34.3|            No|                 0|               8|                        30|                    12|\n",
      "|     Very Good|Within the past 2...|     Yes|          No|        No|         No|        No|                  No|       No|Female|      45-49|       163|      56.7|21.46|            No|                 1|               8|                         4|                     2|\n",
      "|          Good|Within the past year|     Yes|          No|        No|         No|        No|                 Yes|       No|  Male|      40-44|       165|      56.7| 20.8|           Yes|                 0|              60|                        16|                    12|\n",
      "|     Very Good|Within the past year|     Yes|          No|        No|         No|        No|                 Yes|       No|  Male|        80+|       191|    104.33|28.75|           Yes|                 1|              20|                         4|                    24|\n",
      "|     Excellent|Within the past 2...|     Yes|          No|        No|         No|        No|                  No|      Yes|  Male|      45-49|       175|     81.65|26.58|            No|                 0|              60|                        30|                     1|\n",
      "|     Very Good|Within the past 2...|     Yes|          No|        No|         No|        No|                  No|       No|  Male|      45-49|       180|    124.74|38.35|           Yes|                 0|              30|                        30|                     8|\n",
      "|          Good|Within the past year|      No|          No|        No|         No|        No|                  No|      Yes|Female|      60-64|       157|     81.65|32.92|           Yes|                 1|              32|                        16|                    10|\n",
      "|     Excellent|               Never|     Yes|          No|        No|         No|        No|                  No|       No|  Male|      40-44|       206|    108.86|25.72|           Yes|                 0|               0|                         4|                     0|\n",
      "+--------------+--------------------+--------+------------+----------+-----------+----------+--------------------+---------+------+-----------+----------+----------+-----+--------------+------------------+----------------+--------------------------+----------------------+\n",
      "only showing top 20 rows\n",
      "\n"
     ]
    }
   ],
   "source": [
    "#read data and show\n",
    "file1=\"Cardiovascular Diseases Risk Prediction Dataset dirty - Part 1.csv\"\n",
    "file2=\"Cardiovascular Diseases Risk Prediction Dataset dirty - Part 2.csv\"\n",
    "# read data\n",
    "data1 = spark.read.csv(file1, header=True, inferSchema=True)\n",
    "data2 = spark.read.csv(file2, header=True, inferSchema=True)\n",
    "\n",
    "# show and print data\n",
    "data1.show()\n",
    "data2.show()"
   ]
  },
  {
   "cell_type": "code",
   "execution_count": 7,
   "id": "cfd7bb59",
   "metadata": {},
   "outputs": [
    {
     "name": "stdout",
     "output_type": "stream",
     "text": [
      "root\n",
      " |-- General_Health: string (nullable = true)\n",
      " |-- Checkup: string (nullable = true)\n",
      " |-- Exercise: string (nullable = true)\n",
      " |-- HeartDisease: string (nullable = true)\n",
      " |-- SkinCancer: string (nullable = true)\n",
      " |-- OtherCancer: string (nullable = true)\n",
      " |-- Depression: string (nullable = true)\n",
      " |-- Diabetes: string (nullable = true)\n",
      " |-- Arthritis: string (nullable = true)\n",
      " |-- Sex: string (nullable = true)\n",
      " |-- AgeCategory: string (nullable = true)\n",
      " |-- Height(cm): integer (nullable = true)\n",
      " |-- Weight(kg): double (nullable = true)\n",
      " |-- BMI: double (nullable = true)\n",
      " |-- SmokingHistory: string (nullable = true)\n",
      " |-- AlcoholConsumption: integer (nullable = true)\n",
      " |-- FruitConsumption: integer (nullable = true)\n",
      " |-- GreenVegetablesConsumption: integer (nullable = true)\n",
      " |-- FriedPotatoConsumption: integer (nullable = true)\n",
      "\n",
      "root\n",
      " |-- General_Health: string (nullable = true)\n",
      " |-- Checkup: string (nullable = true)\n",
      " |-- Exercise: string (nullable = true)\n",
      " |-- HeartDisease: string (nullable = true)\n",
      " |-- SkinCancer: string (nullable = true)\n",
      " |-- OtherCancer: string (nullable = true)\n",
      " |-- Depression: string (nullable = true)\n",
      " |-- Diabetes: string (nullable = true)\n",
      " |-- Arthritis: string (nullable = true)\n",
      " |-- Sex: string (nullable = true)\n",
      " |-- AgeCategory: string (nullable = true)\n",
      " |-- Height(cm): integer (nullable = true)\n",
      " |-- Weight(kg): double (nullable = true)\n",
      " |-- BMI: double (nullable = true)\n",
      " |-- SmokingHistory: string (nullable = true)\n",
      " |-- AlcoholConsumption: integer (nullable = true)\n",
      " |-- FruitConsumption: integer (nullable = true)\n",
      " |-- GreenVegetablesConsumption: integer (nullable = true)\n",
      " |-- FriedPotatoConsumption: integer (nullable = true)\n",
      "\n"
     ]
    }
   ],
   "source": [
    "#print data schema\n",
    "data1.printSchema()\n",
    "data2.printSchema()"
   ]
  },
  {
   "cell_type": "code",
   "execution_count": 8,
   "id": "18f7c3e2",
   "metadata": {},
   "outputs": [],
   "source": [
    "# Define numerical features and categorical features\n",
    "numerical_features = ['Height(cm)', 'Weight(kg)', 'BMI', 'AlcoholConsumption',\n",
    "                      'FruitConsumption', 'GreenVegetablesConsumption', \n",
    "                      'FriedPotatoConsumption']\n",
    "categorical_features = ['General_Health','Checkup', 'Exercise', 'HeartDisease',\n",
    "                        'SkinCancer', 'OtherCancer', 'Depression', 'Diabetes', \n",
    "                        'Arthritis', 'Sex', 'AgeCategory', 'SmokingHistory']"
   ]
  },
  {
   "cell_type": "code",
   "execution_count": 9,
   "id": "103fb03a",
   "metadata": {
    "scrolled": true
   },
   "outputs": [
    {
     "name": "stderr",
     "output_type": "stream",
     "text": [
      "                                                                                \r"
     ]
    },
    {
     "name": "stdout",
     "output_type": "stream",
     "text": [
      "+-------+------------------+-----------------+------------------+------------------+------------------+--------------------------+----------------------+\n",
      "|summary|        Height(cm)|       Weight(kg)|               BMI|AlcoholConsumption|  FruitConsumption|GreenVegetablesConsumption|FriedPotatoConsumption|\n",
      "+-------+------------------+-----------------+------------------+------------------+------------------+--------------------------+----------------------+\n",
      "|  count|            151469|           151468|            151471|            151471|            151470|                    151470|                151468|\n",
      "|   mean|170.72150076913428|83.52362604643292| 28.56556799651395| 5.199133827597362|29.813065293457452|         14.99376774278735|     6.301093300235033|\n",
      "| stddev|10.620184100377434|21.41840277904633|6.5344630930037075| 8.267109622728807|24.798504144686706|        14.810641104656465|      8.55474523326812|\n",
      "|    min|                91|            24.95|             12.11|                 0|                 0|                         0|                     0|\n",
      "|    max|               234|           293.02|             98.44|                30|               120|                       120|                   128|\n",
      "+-------+------------------+-----------------+------------------+------------------+------------------+--------------------------+----------------------+\n",
      "\n",
      "+-------+-----------------+------------------+-----------------+------------------+------------------+--------------------------+----------------------+\n",
      "|summary|       Height(cm)|        Weight(kg)|              BMI|AlcoholConsumption|  FruitConsumption|GreenVegetablesConsumption|FriedPotatoConsumption|\n",
      "+-------+-----------------+------------------+-----------------+------------------+------------------+--------------------------+----------------------+\n",
      "|  count|           157383|            157383|           157383|            157383|            157383|                    157383|                157383|\n",
      "|   mean|170.5130414339541| 83.65118094076891|28.68457508117075|  4.99745842943647| 29.85661729665847|        15.222749598114154|     6.292217075541831|\n",
      "| stddev|10.69341294767657|21.270268228658054|6.510105068463268| 8.133218810537107|24.949937602556858|         15.03589045331472|     8.609896230645807|\n",
      "|    min|               91|             26.31|            12.02|                 0|                 0|                         0|                     0|\n",
      "|    max|              241|             283.5|            99.33|                30|               120|                       128|                   128|\n",
      "+-------+-----------------+------------------+-----------------+------------------+------------------+--------------------------+----------------------+\n",
      "\n"
     ]
    }
   ],
   "source": [
    "'''Explore the data'''\n",
    "# Numerical feature explore\n",
    "data1.select(numerical_features).describe().show()\n",
    "data2.select(numerical_features).describe().show()"
   ]
  },
  {
   "cell_type": "code",
   "execution_count": 10,
   "id": "812ecceb",
   "metadata": {},
   "outputs": [
    {
     "name": "stdout",
     "output_type": "stream",
     "text": [
      "+------------------+-----------------+-----------------+----------------------+--------------------+------------------------------+--------------------------+\n",
      "|    Height(cm)_avg|   Weight(kg)_avg|          BMI_avg|AlcoholConsumption_avg|FruitConsumption_avg|GreenVegetablesConsumption_avg|FriedPotatoConsumption_avg|\n",
      "+------------------+-----------------+-----------------+----------------------+--------------------+------------------------------+--------------------------+\n",
      "|170.72150076913428|83.52362604643292|28.56556799651395|     5.199133827597362|  29.813065293457452|             14.99376774278735|         6.301093300235033|\n",
      "+------------------+-----------------+-----------------+----------------------+--------------------+------------------------------+--------------------------+\n",
      "\n",
      "+------------------+-----------------+------------------+-------------------------+-----------------------+---------------------------------+-----------------------------+\n",
      "| Height(cm)_stddev|Weight(kg)_stddev|        BMI_stddev|AlcoholConsumption_stddev|FruitConsumption_stddev|GreenVegetablesConsumption_stddev|FriedPotatoConsumption_stddev|\n",
      "+------------------+-----------------+------------------+-------------------------+-----------------------+---------------------------------+-----------------------------+\n",
      "|10.620184100377434|21.41840277904633|6.5344630930037075|        8.267109622728807|     24.798504144686706|               14.810641104656465|             8.55474523326812|\n",
      "+------------------+-----------------+------------------+-------------------------+-----------------------+---------------------------------+-----------------------------+\n",
      "\n"
     ]
    },
    {
     "name": "stderr",
     "output_type": "stream",
     "text": [
      "23/10/11 05:06:07 WARN package: Truncated the string representation of a plan since it was too large. This behavior can be adjusted by setting 'spark.sql.debug.maxToStringFields'.\n"
     ]
    },
    {
     "name": "stdout",
     "output_type": "stream",
     "text": [
      "+--------------------+-------------------+------------------+---------------------------+-------------------------+-----------------------------------+-------------------------------+\n",
      "| Height(cm)_skewness|Weight(kg)_skewness|      BMI_skewness|AlcoholConsumption_skewness|FruitConsumption_skewness|GreenVegetablesConsumption_skewness|FriedPotatoConsumption_skewness|\n",
      "+--------------------+-------------------+------------------+---------------------------+-------------------------+-----------------------------------+-------------------------------+\n",
      "|0.024511764298717056| 1.0644044154816517|1.3747440104203876|         1.8499343604195304|       1.2470255656973934|                 2.4076690955367046|              4.926845407866809|\n",
      "+--------------------+-------------------+------------------+---------------------------+-------------------------+-----------------------------------+-------------------------------+\n",
      "\n"
     ]
    },
    {
     "name": "stderr",
     "output_type": "stream",
     "text": [
      "                                                                                \r"
     ]
    },
    {
     "name": "stdout",
     "output_type": "stream",
     "text": [
      "+--------------------+-------------------+-----------------+---------------------------+-------------------------+-----------------------------------+-------------------------------+\n",
      "| Height(cm)_kurtosis|Weight(kg)_kurtosis|     BMI_kurtosis|AlcoholConsumption_kurtosis|FruitConsumption_kurtosis|GreenVegetablesConsumption_kurtosis|FriedPotatoConsumption_kurtosis|\n",
      "+--------------------+-------------------+-----------------+---------------------------+-------------------------+-----------------------------------+-------------------------------+\n",
      "|-0.05697767225352...| 2.5958775923495985|4.138857069849977|         2.3897064636948357|       1.2581642453864674|                  9.365031346634087|              42.82391934626803|\n",
      "+--------------------+-------------------+-----------------+---------------------------+-------------------------+-----------------------------------+-------------------------------+\n",
      "\n",
      "+-------------------+-------------------+-----------------+---------------------------+-------------------------+-----------------------------------+-------------------------------+\n",
      "|Height(cm)_variance|Weight(kg)_variance|     BMI_variance|AlcoholConsumption_variance|FruitConsumption_variance|GreenVegetablesConsumption_variance|FriedPotatoConsumption_variance|\n",
      "+-------------------+-------------------+-----------------+---------------------------+-------------------------+-----------------------------------+-------------------------------+\n",
      "| 112.78831032590966|  458.7479776054594|42.69920791382758|          68.34510151421524|        614.9658078140438|                  219.3550899309397|              73.18366600612363|\n",
      "+-------------------+-------------------+-----------------+---------------------------+-------------------------+-----------------------------------+-------------------------------+\n",
      "\n"
     ]
    }
   ],
   "source": [
    "# statistical explore\n",
    "from pyspark.sql import functions as F\n",
    "\n",
    "stats = [\"avg\", \"stddev\", \"skewness\", \"kurtosis\", \"variance\"]\n",
    "\n",
    "for stat in stats:\n",
    "    agg_expr = [getattr(F, stat)(col_name).alias(f\"{col_name}_{stat}\") for col_name in numerical_features]\n",
    "    data1.agg(*agg_expr).show()"
   ]
  },
  {
   "cell_type": "code",
   "execution_count": 11,
   "id": "25eb5448",
   "metadata": {},
   "outputs": [
    {
     "name": "stdout",
     "output_type": "stream",
     "text": [
      "root\n",
      " |-- General_Health: string (nullable = true)\n",
      " |-- Checkup: string (nullable = true)\n",
      " |-- Exercise: string (nullable = true)\n",
      " |-- HeartDisease: integer (nullable = false)\n",
      " |-- SkinCancer: string (nullable = true)\n",
      " |-- OtherCancer: string (nullable = true)\n",
      " |-- Depression: string (nullable = true)\n",
      " |-- Diabetes: string (nullable = true)\n",
      " |-- Arthritis: string (nullable = true)\n",
      " |-- Sex: string (nullable = true)\n",
      " |-- AgeCategory: string (nullable = true)\n",
      " |-- Height(cm): integer (nullable = true)\n",
      " |-- Weight(kg): double (nullable = true)\n",
      " |-- BMI: double (nullable = true)\n",
      " |-- SmokingHistory: string (nullable = true)\n",
      " |-- AlcoholConsumption: integer (nullable = true)\n",
      " |-- FruitConsumption: integer (nullable = true)\n",
      " |-- GreenVegetablesConsumption: integer (nullable = true)\n",
      " |-- FriedPotatoConsumption: integer (nullable = true)\n",
      "\n",
      "root\n",
      " |-- General_Health: string (nullable = true)\n",
      " |-- Checkup: string (nullable = true)\n",
      " |-- Exercise: string (nullable = true)\n",
      " |-- HeartDisease: integer (nullable = false)\n",
      " |-- SkinCancer: string (nullable = true)\n",
      " |-- OtherCancer: string (nullable = true)\n",
      " |-- Depression: string (nullable = true)\n",
      " |-- Diabetes: string (nullable = true)\n",
      " |-- Arthritis: string (nullable = true)\n",
      " |-- Sex: string (nullable = true)\n",
      " |-- AgeCategory: string (nullable = true)\n",
      " |-- Height(cm): integer (nullable = true)\n",
      " |-- Weight(kg): double (nullable = true)\n",
      " |-- BMI: double (nullable = true)\n",
      " |-- SmokingHistory: string (nullable = true)\n",
      " |-- AlcoholConsumption: integer (nullable = true)\n",
      " |-- FruitConsumption: integer (nullable = true)\n",
      " |-- GreenVegetablesConsumption: integer (nullable = true)\n",
      " |-- FriedPotatoConsumption: integer (nullable = true)\n",
      "\n"
     ]
    }
   ],
   "source": [
    "from pyspark.sql.functions import when\n",
    " \n",
    "# transfer yes to 1 and no to 0 in HeartDisease column\n",
    "data11 = data1.withColumn(\"HeartDisease\", when(data1[\"HeartDisease\"] == \"yes\", 1).otherwise(0))\n",
    "data22 = data2.withColumn(\"HeartDisease\", when(data2[\"HeartDisease\"] == \"yes\", 1).otherwise(0))\n",
    "\n",
    "# print schma to make sure that the transfer is successfull\n",
    "data11.printSchema()\n",
    "data22.printSchema()"
   ]
  },
  {
   "cell_type": "code",
   "execution_count": 12,
   "id": "146fd130",
   "metadata": {},
   "outputs": [
    {
     "name": "stderr",
     "output_type": "stream",
     "text": [
      "\r",
      "[Stage 27:=============================>                            (1 + 1) / 2]\r",
      "\r",
      "                                                                                \r"
     ]
    },
    {
     "name": "stdout",
     "output_type": "stream",
     "text": [
      "Correlation between Height(cm) and HeartDisease: nan\n",
      "Correlation between Weight(kg) and HeartDisease: nan\n",
      "Correlation between BMI and HeartDisease: nan\n",
      "Correlation between AlcoholConsumption and HeartDisease: nan\n",
      "Correlation between FruitConsumption and HeartDisease: nan\n",
      "Correlation between GreenVegetablesConsumption and HeartDisease: nan\n",
      "Correlation between FriedPotatoConsumption and HeartDisease: nan\n",
      "-------------------------------------------\n",
      "Correlation between Height(cm) and HeartDisease: nan\n",
      "Correlation between Weight(kg) and HeartDisease: nan\n",
      "Correlation between BMI and HeartDisease: nan\n",
      "Correlation between AlcoholConsumption and HeartDisease: nan\n",
      "Correlation between FruitConsumption and HeartDisease: nan\n",
      "Correlation between GreenVegetablesConsumption and HeartDisease: nan\n",
      "Correlation between FriedPotatoConsumption and HeartDisease: nan\n"
     ]
    }
   ],
   "source": [
    "# Correlation exploration\n",
    "for feature in numerical_features:\n",
    "    correlation = data11.corr(feature, \"HeartDisease\")\n",
    "    print(f\"Correlation between {feature} and HeartDisease: {correlation}\")\n",
    "    \n",
    "print(\"-------------------------------------------\")\n",
    "\n",
    "for feature in numerical_features:\n",
    "    correlation = data22.corr(feature, \"HeartDisease\")\n",
    "    print(f\"Correlation between {feature} and HeartDisease: {correlation}\")"
   ]
  },
  {
   "cell_type": "code",
   "execution_count": 13,
   "id": "97bd18fb",
   "metadata": {},
   "outputs": [
    {
     "name": "stdout",
     "output_type": "stream",
     "text": [
      "+------------+------+\n",
      "|HeartDisease| count|\n",
      "+------------+------+\n",
      "|          No|139401|\n",
      "|         Yes| 12070|\n",
      "+------------+------+\n",
      "\n",
      "+------------+------+\n",
      "|HeartDisease| count|\n",
      "+------------+------+\n",
      "|          No|144482|\n",
      "|         Yes| 12901|\n",
      "+------------+------+\n",
      "\n",
      "Counts for General_Health in data1:\n",
      "+--------------+-----+\n",
      "|General_Health|count|\n",
      "+--------------+-----+\n",
      "|     Very Good|54361|\n",
      "|          Good|46682|\n",
      "|     Excellent|27521|\n",
      "|          Fair|17350|\n",
      "|          Poor| 5557|\n",
      "+--------------+-----+\n",
      "\n",
      "Counts for General_Health in data2:\n",
      "+--------------+-----+\n",
      "|General_Health|count|\n",
      "+--------------+-----+\n",
      "|     Very Good|56034|\n",
      "|          Good|48682|\n",
      "|     Excellent|28433|\n",
      "|          Fair|18460|\n",
      "|          Poor| 5774|\n",
      "+--------------+-----+\n",
      "\n",
      "Counts for Checkup in data1:\n",
      "+--------------------+------+\n",
      "|             Checkup| count|\n",
      "+--------------------+------+\n",
      "|Within the past year|116765|\n",
      "|Within the past 2...| 18700|\n",
      "|Within the past 5...|  8686|\n",
      "| 5 or more years ago|  6619|\n",
      "|               Never|   700|\n",
      "|                null|     1|\n",
      "+--------------------+------+\n",
      "\n",
      "Counts for Checkup in data2:\n",
      "+--------------------+------+\n",
      "|             Checkup| count|\n",
      "+--------------------+------+\n",
      "|Within the past year|122605|\n",
      "|Within the past 2...| 18513|\n",
      "|Within the past 5...|  8756|\n",
      "| 5 or more years ago|  6802|\n",
      "|               Never|   707|\n",
      "+--------------------+------+\n",
      "\n",
      "Counts for Exercise in data1:\n",
      "+--------+------+\n",
      "|Exercise| count|\n",
      "+--------+------+\n",
      "|     Yes|117885|\n",
      "|      No| 33586|\n",
      "+--------+------+\n",
      "\n",
      "Counts for Exercise in data2:\n",
      "+--------+------+\n",
      "|Exercise| count|\n",
      "+--------+------+\n",
      "|     Yes|121496|\n",
      "|      No| 35887|\n",
      "+--------+------+\n",
      "\n",
      "Counts for HeartDisease in data1:\n",
      "+------------+------+\n",
      "|HeartDisease| count|\n",
      "+------------+------+\n",
      "|          No|139401|\n",
      "|         Yes| 12070|\n",
      "+------------+------+\n",
      "\n",
      "Counts for HeartDisease in data2:\n",
      "+------------+------+\n",
      "|HeartDisease| count|\n",
      "+------------+------+\n",
      "|          No|144482|\n",
      "|         Yes| 12901|\n",
      "+------------+------+\n",
      "\n",
      "Counts for SkinCancer in data1:\n",
      "+----------+------+\n",
      "|SkinCancer| count|\n",
      "+----------+------+\n",
      "|        No|136586|\n",
      "|       Yes| 14885|\n",
      "+----------+------+\n",
      "\n",
      "Counts for SkinCancer in data2:\n",
      "+----------+------+\n",
      "|SkinCancer| count|\n",
      "+----------+------+\n",
      "|        No|142274|\n",
      "|       Yes| 15109|\n",
      "+----------+------+\n",
      "\n",
      "Counts for OtherCancer in data1:\n",
      "+-----------+------+\n",
      "|OtherCancer| count|\n",
      "+-----------+------+\n",
      "|         No|136910|\n",
      "|        Yes| 14559|\n",
      "|       null|     2|\n",
      "+-----------+------+\n",
      "\n",
      "Counts for OtherCancer in data2:\n",
      "+-----------+------+\n",
      "|OtherCancer| count|\n",
      "+-----------+------+\n",
      "|         No|142065|\n",
      "|        Yes| 15318|\n",
      "+-----------+------+\n",
      "\n",
      "Counts for Depression in data1:\n",
      "+----------+------+\n",
      "|Depression| count|\n",
      "+----------+------+\n",
      "|        No|121500|\n",
      "|       Yes| 29969|\n",
      "|      null|     2|\n",
      "+----------+------+\n",
      "\n",
      "Counts for Depression in data2:\n",
      "+----------+------+\n",
      "|Depression| count|\n",
      "+----------+------+\n",
      "|        No|125451|\n",
      "|       Yes| 31932|\n",
      "+----------+------+\n",
      "\n",
      "Counts for Diabetes in data1:\n",
      "+--------------------+------+\n",
      "|            Diabetes| count|\n",
      "+--------------------+------+\n",
      "|                  No|127402|\n",
      "|                 Yes| 19295|\n",
      "|No, pre-diabetes ...|  3488|\n",
      "|Yes, but female t...|  1285|\n",
      "|                null|     1|\n",
      "+--------------------+------+\n",
      "\n",
      "Counts for Diabetes in data2:\n",
      "+--------------------+------+\n",
      "|            Diabetes| count|\n",
      "+--------------------+------+\n",
      "|                  No|131738|\n",
      "|                 Yes| 20876|\n",
      "|No, pre-diabetes ...|  3408|\n",
      "|Yes, but female t...|  1361|\n",
      "+--------------------+------+\n",
      "\n",
      "Counts for Arthritis in data1:\n",
      "+---------+------+\n",
      "|Arthritis| count|\n",
      "+---------+------+\n",
      "|       No|102836|\n",
      "|      Yes| 48632|\n",
      "|     null|     3|\n",
      "+---------+------+\n",
      "\n",
      "Counts for Arthritis in data2:\n",
      "+---------+------+\n",
      "|Arthritis| count|\n",
      "+---------+------+\n",
      "|       No|104946|\n",
      "|      Yes| 52437|\n",
      "+---------+------+\n",
      "\n",
      "Counts for Sex in data1:\n",
      "+------+-----+\n",
      "|   Sex|count|\n",
      "+------+-----+\n",
      "|Female|78450|\n",
      "|  Male|73021|\n",
      "+------+-----+\n",
      "\n",
      "Counts for Sex in data2:\n",
      "+------+-----+\n",
      "|   Sex|count|\n",
      "+------+-----+\n",
      "|Female|81746|\n",
      "|  Male|75637|\n",
      "+------+-----+\n",
      "\n",
      "Counts for AgeCategory in data1:\n",
      "+-----------+-----+\n",
      "|AgeCategory|count|\n",
      "+-----------+-----+\n",
      "|      65-69|16065|\n",
      "|      60-64|15788|\n",
      "|      70-74|15138|\n",
      "|      55-59|13804|\n",
      "|      50-54|12384|\n",
      "|      40-44|10669|\n",
      "|        80+|10665|\n",
      "|      35-39|10311|\n",
      "|      45-49|10269|\n",
      "|      75-79|10043|\n",
      "|      18-24| 9443|\n",
      "|      30-34| 9184|\n",
      "|      25-29| 7706|\n",
      "|       null|    1|\n",
      "|          4|    1|\n",
      "+-----------+-----+\n",
      "\n",
      "Counts for AgeCategory in data2:\n",
      "+-----------+-----+\n",
      "|AgeCategory|count|\n",
      "+-----------+-----+\n",
      "|      65-69|17369|\n",
      "|      60-64|16630|\n",
      "|      70-74|15964|\n",
      "|      55-59|14250|\n",
      "|      50-54|12713|\n",
      "|        80+|11606|\n",
      "|      40-44|10926|\n",
      "|      45-49|10699|\n",
      "|      75-79|10662|\n",
      "|      35-39|10295|\n",
      "|      30-34| 9243|\n",
      "|      18-24| 9238|\n",
      "|      25-29| 7788|\n",
      "+-----------+-----+\n",
      "\n",
      "Counts for SmokingHistory in data1:\n",
      "+--------------+-----+\n",
      "|SmokingHistory|count|\n",
      "+--------------+-----+\n",
      "|            No|89527|\n",
      "|           Yes|61942|\n",
      "|          null|    2|\n",
      "+--------------+-----+\n",
      "\n",
      "Counts for SmokingHistory in data2:\n",
      "+--------------+-----+\n",
      "|SmokingHistory|count|\n",
      "+--------------+-----+\n",
      "|            No|94061|\n",
      "|           Yes|63322|\n",
      "+--------------+-----+\n",
      "\n"
     ]
    }
   ],
   "source": [
    "# Categorical feature explore  \n",
    "data1.groupBy('HeartDisease').count().show()  # Exploring target variable\n",
    "data2.groupBy('HeartDisease').count().show()  # Exploring target variable\n",
    "\n",
    "for feature in categorical_features:\n",
    "    print(f\"Counts for {feature} in data1:\")\n",
    "    data1.groupBy(feature).count().orderBy('count', ascending=False).show()\n",
    "    print(f\"Counts for {feature} in data2:\")\n",
    "    data2.groupBy(feature).count().orderBy('count', ascending=False).show()"
   ]
  },
  {
   "cell_type": "code",
   "execution_count": 14,
   "id": "9a3e2a84",
   "metadata": {},
   "outputs": [
    {
     "name": "stdout",
     "output_type": "stream",
     "text": [
      "Missing values in data1:\n",
      "+--------------+-------+--------+------------+----------+-----------+----------+--------+---------+---+-----------+----------+----------+---+--------------+------------------+----------------+--------------------------+----------------------+\n",
      "|General_Health|Checkup|Exercise|HeartDisease|SkinCancer|OtherCancer|Depression|Diabetes|Arthritis|Sex|AgeCategory|Height(cm)|Weight(kg)|BMI|SmokingHistory|AlcoholConsumption|FruitConsumption|GreenVegetablesConsumption|FriedPotatoConsumption|\n",
      "+--------------+-------+--------+------------+----------+-----------+----------+--------+---------+---+-----------+----------+----------+---+--------------+------------------+----------------+--------------------------+----------------------+\n",
      "|             0|      1|       0|           0|         0|          2|         2|       1|        3|  0|          1|         2|         3|  0|             2|                 0|               1|                         1|                     3|\n",
      "+--------------+-------+--------+------------+----------+-----------+----------+--------+---------+---+-----------+----------+----------+---+--------------+------------------+----------------+--------------------------+----------------------+\n",
      "\n",
      "Missing values in data2:\n",
      "+--------------+-------+--------+------------+----------+-----------+----------+--------+---------+---+-----------+----------+----------+---+--------------+------------------+----------------+--------------------------+----------------------+\n",
      "|General_Health|Checkup|Exercise|HeartDisease|SkinCancer|OtherCancer|Depression|Diabetes|Arthritis|Sex|AgeCategory|Height(cm)|Weight(kg)|BMI|SmokingHistory|AlcoholConsumption|FruitConsumption|GreenVegetablesConsumption|FriedPotatoConsumption|\n",
      "+--------------+-------+--------+------------+----------+-----------+----------+--------+---------+---+-----------+----------+----------+---+--------------+------------------+----------------+--------------------------+----------------------+\n",
      "|             0|      0|       0|           0|         0|          0|         0|       0|        0|  0|          0|         0|         0|  0|             0|                 0|               0|                         0|                     0|\n",
      "+--------------+-------+--------+------------+----------+-----------+----------+--------+---------+---+-----------+----------+----------+---+--------------+------------------+----------------+--------------------------+----------------------+\n",
      "\n"
     ]
    }
   ],
   "source": [
    "from pyspark.sql.functions import col, sum as pyspark_sum\n",
    "\n",
    "# Checking for missing values in data1\n",
    "print(\"Missing values in data1:\")\n",
    "data1.select(*(pyspark_sum(col(c).isNull().cast(\"int\")).alias(c) for c in data1.columns)).show()\n",
    "\n",
    "# Checking for missing values in data2\n",
    "print(\"Missing values in data2:\")\n",
    "data2.select(*(pyspark_sum(col(c).isNull().cast(\"int\")).alias(c) for c in data2.columns)).show()"
   ]
  },
  {
   "cell_type": "code",
   "execution_count": 15,
   "id": "37c3eb59",
   "metadata": {},
   "outputs": [
    {
     "name": "stdout",
     "output_type": "stream",
     "text": [
      "Outliers for Height(cm): 492\n",
      "Outliers for Weight(kg): 3607\n",
      "Outliers for BMI: 5198\n",
      "Outliers for AlcoholConsumption: 18141\n",
      "Outliers for FruitConsumption: 33484\n",
      "Outliers for GreenVegetablesConsumption: 5756\n",
      "Outliers for FriedPotatoConsumption: 9570\n"
     ]
    }
   ],
   "source": [
    "from pyspark.sql.functions import col, percentile_approx\n",
    "\n",
    "for feature in numerical_features:\n",
    "    # Calculate Q1 and Q3\n",
    "    quantiles = data1.approxQuantile(feature, [0.25, 0.75], 0.01)\n",
    "    Q1 = quantiles[0]\n",
    "    Q3 = quantiles[1]\n",
    "    # Compute IQR\n",
    "    IQR = Q3 - Q1  \n",
    "    # Define boundaries for outliers\n",
    "    lower_bound = Q1 - 1.5 * IQR\n",
    "    upper_bound = Q3 + 1.5 * IQR\n",
    "    # Filter out outliers\n",
    "    outliers = data1.filter((col(feature) < lower_bound) | (col(feature) > upper_bound))\n",
    "    # Print results\n",
    "    print(f\"Outliers for {feature}: {outliers.count()}\")"
   ]
  },
  {
   "cell_type": "code",
   "execution_count": 16,
   "id": "bf3c8dcc",
   "metadata": {},
   "outputs": [
    {
     "name": "stderr",
     "output_type": "stream",
     "text": [
      "                                                                                \r"
     ]
    },
    {
     "name": "stdout",
     "output_type": "stream",
     "text": [
      "Number of duplicate rows in data1: 24\n"
     ]
    },
    {
     "name": "stderr",
     "output_type": "stream",
     "text": [
      "\r",
      "[Stage 159:>                                                        (0 + 2) / 2]\r",
      "\r",
      "[Stage 159:============================>                            (1 + 1) / 2]\r"
     ]
    },
    {
     "name": "stdout",
     "output_type": "stream",
     "text": [
      "Number of duplicate rows in data2: 24\n"
     ]
    },
    {
     "name": "stderr",
     "output_type": "stream",
     "text": [
      "\r",
      "                                                                                \r"
     ]
    }
   ],
   "source": [
    "duplicates_data1 = data1.groupBy(data1.columns).count().filter(\"`count` > 1\")\n",
    "num_duplicates_data1 = duplicates_data1.count()\n",
    "print(f\"Number of duplicate rows in data1: {num_duplicates_data1}\")\n",
    "\n",
    "duplicates_data2 = data1.groupBy(data2.columns).count().filter(\"`count` > 1\")\n",
    "num_duplicates_data2 = duplicates_data2.count()\n",
    "print(f\"Number of duplicate rows in data2: {num_duplicates_data2}\")"
   ]
  },
  {
   "cell_type": "code",
   "execution_count": 17,
   "id": "77e133ed",
   "metadata": {},
   "outputs": [
    {
     "name": "stdout",
     "output_type": "stream",
     "text": [
      "Statistics for Height(cm) in data1:\n",
      "Count: 151469, Mean: 170.72, Stddev: 10.62,          Min: 91, 25th percentile: 163.00, Median: 170.00,          75th percentile: 178.00, Max: 234\n",
      "Statistics for Height(cm) in data2:\n",
      "Count: 157383, Mean: 170.51, Stddev: 10.69,          Min: 91, 25th percentile: 163.00,          Median: 170.00, 75th percentile: 178.00, Max: 241\n",
      "--------------------------------------------------\n",
      "Statistics for Weight(kg) in data1:\n",
      "Count: 151468, Mean: 83.52, Stddev: 21.42,          Min: 24.95, 25th percentile: 68.04, Median: 81.19,          75th percentile: 95.25, Max: 293.02\n",
      "Statistics for Weight(kg) in data2:\n",
      "Count: 157383, Mean: 83.65, Stddev: 21.27,          Min: 26.31, 25th percentile: 68.04,          Median: 81.65, 75th percentile: 95.25, Max: 283.5\n",
      "--------------------------------------------------\n",
      "Statistics for BMI in data1:\n",
      "Count: 151471, Mean: 28.57, Stddev: 6.53,          Min: 12.11, 25th percentile: 24.14, Median: 27.41,          75th percentile: 31.62, Max: 98.44\n",
      "Statistics for BMI in data2:\n",
      "Count: 157383, Mean: 28.68, Stddev: 6.51,          Min: 12.02, 25th percentile: 24.24,          Median: 27.46, 75th percentile: 31.66, Max: 99.33\n",
      "--------------------------------------------------\n",
      "Statistics for AlcoholConsumption in data1:\n",
      "Count: 151471, Mean: 5.20, Stddev: 8.27,          Min: 0, 25th percentile: 0.00, Median: 1.00,          75th percentile: 6.00, Max: 30\n",
      "Statistics for AlcoholConsumption in data2:\n",
      "Count: 157383, Mean: 5.00, Stddev: 8.13,          Min: 0, 25th percentile: 0.00,          Median: 1.00, 75th percentile: 5.00, Max: 30\n",
      "--------------------------------------------------\n",
      "Statistics for FruitConsumption in data1:\n",
      "Count: 151470, Mean: 29.81, Stddev: 24.80,          Min: 0, 25th percentile: 12.00, Median: 30.00,          75th percentile: 30.00, Max: 120\n",
      "Statistics for FruitConsumption in data2:\n",
      "Count: 157383, Mean: 29.86, Stddev: 24.95,          Min: 0, 25th percentile: 12.00,          Median: 30.00, 75th percentile: 30.00, Max: 120\n",
      "--------------------------------------------------\n",
      "Statistics for GreenVegetablesConsumption in data1:\n",
      "Count: 151470, Mean: 14.99, Stddev: 14.81,          Min: 0, 25th percentile: 4.00, Median: 12.00,          75th percentile: 20.00, Max: 120\n",
      "Statistics for GreenVegetablesConsumption in data2:\n",
      "Count: 157383, Mean: 15.22, Stddev: 15.04,          Min: 0, 25th percentile: 4.00,          Median: 12.00, 75th percentile: 20.00, Max: 128\n",
      "--------------------------------------------------\n",
      "Statistics for FriedPotatoConsumption in data1:\n",
      "Count: 151468, Mean: 6.30, Stddev: 8.55,          Min: 0, 25th percentile: 2.00, Median: 4.00,          75th percentile: 8.00, Max: 128\n",
      "Statistics for FriedPotatoConsumption in data2:\n",
      "Count: 157383, Mean: 6.29, Stddev: 8.61,          Min: 0, 25th percentile: 2.00,          Median: 4.00, 75th percentile: 8.00, Max: 128\n",
      "--------------------------------------------------\n"
     ]
    }
   ],
   "source": [
    "# Function to compute desired statistics for a given column\n",
    "def compute_stats(df, col_name):\n",
    "    basic_stats = df.agg(\n",
    "        F.count(F.col(col_name)).alias('count'),\n",
    "        F.mean(F.col(col_name)).alias('mean'),\n",
    "        F.stddev(F.col(col_name)).alias('stddev'),\n",
    "        F.min(F.col(col_name)).alias('min'),\n",
    "        F.max(F.col(col_name)).alias('max')\n",
    "    ).collect()[0]\n",
    "    quantiles = df.approxQuantile(col_name, [0.25, 0.5, 0.75], 0.01)   \n",
    "    return (\n",
    "        basic_stats['count'],\n",
    "        basic_stats['mean'],\n",
    "        basic_stats['stddev'],\n",
    "        basic_stats['min'],\n",
    "        quantiles[0],\n",
    "        quantiles[1],\n",
    "        quantiles[2],\n",
    "        basic_stats['max']\n",
    "    )\n",
    "# Display statistics for each column in numerical_features\n",
    "for col_name in numerical_features:\n",
    "    print(f\"Statistics for {col_name} in data1:\")\n",
    "    stats_data1 = compute_stats(data1, col_name)\n",
    "    print(f\"Count: {stats_data1[0]}, Mean: {stats_data1[1]:.2f}, Stddev: {stats_data1[2]:.2f},\\\n",
    "          Min: {stats_data1[3]}, 25th percentile: {stats_data1[4]:.2f}, Median: {stats_data1[5]:.2f},\\\n",
    "          75th percentile: {stats_data1[6]:.2f}, Max: {stats_data1[7]}\")    \n",
    "    print(f\"Statistics for {col_name} in data2:\")\n",
    "    stats_data2 = compute_stats(data2, col_name)\n",
    "    print(f\"Count: {stats_data2[0]}, Mean: {stats_data2[1]:.2f}, Stddev: {stats_data2[2]:.2f},\\\n",
    "          Min: {stats_data2[3]}, 25th percentile: {stats_data2[4]:.2f},\\\n",
    "          Median: {stats_data2[5]:.2f}, 75th percentile: {stats_data2[6]:.2f}, Max: {stats_data2[7]}\")   \n",
    "    print(\"-\"*50)"
   ]
  },
  {
   "cell_type": "code",
   "execution_count": 18,
   "id": "252b9f69",
   "metadata": {},
   "outputs": [
    {
     "name": "stdout",
     "output_type": "stream",
     "text": [
      "root\n",
      " |-- General_Health: string (nullable = true)\n",
      " |-- Exercise: string (nullable = true)\n",
      " |-- HeartDisease: string (nullable = true)\n",
      " |-- SkinCancer: string (nullable = true)\n",
      " |-- OtherCancer: string (nullable = true)\n",
      " |-- Depression: string (nullable = true)\n",
      " |-- Diabetes: string (nullable = true)\n",
      " |-- Arthritis: string (nullable = true)\n",
      " |-- Sex: string (nullable = true)\n",
      " |-- AgeCategory: string (nullable = true)\n",
      " |-- Height(cm): integer (nullable = true)\n",
      " |-- Weight(kg): double (nullable = true)\n",
      " |-- BMI: double (nullable = true)\n",
      " |-- SmokingHistory: string (nullable = true)\n",
      " |-- AlcoholConsumption: integer (nullable = true)\n",
      " |-- FruitConsumption: integer (nullable = true)\n",
      " |-- GreenVegetablesConsumption: integer (nullable = true)\n",
      " |-- FriedPotatoConsumption: integer (nullable = true)\n",
      "\n",
      "root\n",
      " |-- General_Health: string (nullable = true)\n",
      " |-- Exercise: string (nullable = true)\n",
      " |-- HeartDisease: string (nullable = true)\n",
      " |-- SkinCancer: string (nullable = true)\n",
      " |-- OtherCancer: string (nullable = true)\n",
      " |-- Depression: string (nullable = true)\n",
      " |-- Diabetes: string (nullable = true)\n",
      " |-- Arthritis: string (nullable = true)\n",
      " |-- Sex: string (nullable = true)\n",
      " |-- AgeCategory: string (nullable = true)\n",
      " |-- Height(cm): integer (nullable = true)\n",
      " |-- Weight(kg): double (nullable = true)\n",
      " |-- BMI: double (nullable = true)\n",
      " |-- SmokingHistory: string (nullable = true)\n",
      " |-- AlcoholConsumption: integer (nullable = true)\n",
      " |-- FruitConsumption: integer (nullable = true)\n",
      " |-- GreenVegetablesConsumption: integer (nullable = true)\n",
      " |-- FriedPotatoConsumption: integer (nullable = true)\n",
      "\n"
     ]
    }
   ],
   "source": [
    "#Drop the field that is irrelevant to business objectives\n",
    "data1 = data1.drop('Checkup')\n",
    "data2 = data2.drop('Checkup')\n",
    "data1.printSchema()\n",
    "data2.printSchema()"
   ]
  },
  {
   "cell_type": "code",
   "execution_count": 19,
   "id": "1a3eaa28",
   "metadata": {},
   "outputs": [],
   "source": [
    "#Remove null value\n",
    "# Removing rows with null or missing values from data1\n",
    "data1= data1.na.drop()\n",
    "\n",
    "# Removing rows with null or missing values from data2\n",
    "data2 = data2.na.drop()"
   ]
  },
  {
   "cell_type": "code",
   "execution_count": 20,
   "id": "1d1d3f3b",
   "metadata": {},
   "outputs": [
    {
     "name": "stdout",
     "output_type": "stream",
     "text": [
      "Missing values in data1:\n"
     ]
    },
    {
     "name": "stderr",
     "output_type": "stream",
     "text": [
      "\r",
      "[Stage 221:============================>                            (1 + 1) / 2]\r",
      "\r",
      "                                                                                \r"
     ]
    },
    {
     "name": "stdout",
     "output_type": "stream",
     "text": [
      "+--------------+--------+------------+----------+-----------+----------+--------+---------+---+-----------+----------+----------+---+--------------+------------------+----------------+--------------------------+----------------------+\n",
      "|General_Health|Exercise|HeartDisease|SkinCancer|OtherCancer|Depression|Diabetes|Arthritis|Sex|AgeCategory|Height(cm)|Weight(kg)|BMI|SmokingHistory|AlcoholConsumption|FruitConsumption|GreenVegetablesConsumption|FriedPotatoConsumption|\n",
      "+--------------+--------+------------+----------+-----------+----------+--------+---------+---+-----------+----------+----------+---+--------------+------------------+----------------+--------------------------+----------------------+\n",
      "|             0|       0|           0|         0|          0|         0|       0|        0|  0|          0|         0|         0|  0|             0|                 0|               0|                         0|                     0|\n",
      "+--------------+--------+------------+----------+-----------+----------+--------+---------+---+-----------+----------+----------+---+--------------+------------------+----------------+--------------------------+----------------------+\n",
      "\n",
      "Missing values in data2:\n",
      "+--------------+--------+------------+----------+-----------+----------+--------+---------+---+-----------+----------+----------+---+--------------+------------------+----------------+--------------------------+----------------------+\n",
      "|General_Health|Exercise|HeartDisease|SkinCancer|OtherCancer|Depression|Diabetes|Arthritis|Sex|AgeCategory|Height(cm)|Weight(kg)|BMI|SmokingHistory|AlcoholConsumption|FruitConsumption|GreenVegetablesConsumption|FriedPotatoConsumption|\n",
      "+--------------+--------+------------+----------+-----------+----------+--------+---------+---+-----------+----------+----------+---+--------------+------------------+----------------+--------------------------+----------------------+\n",
      "|             0|       0|           0|         0|          0|         0|       0|        0|  0|          0|         0|         0|  0|             0|                 0|               0|                         0|                     0|\n",
      "+--------------+--------+------------+----------+-----------+----------+--------+---------+---+-----------+----------+----------+---+--------------+------------------+----------------+--------------------------+----------------------+\n",
      "\n"
     ]
    }
   ],
   "source": [
    "#check remove missing value is successful or not\n",
    "# Checking for missing values in data1\n",
    "print(\"Missing values in data1:\")\n",
    "data1.select(*(pyspark_sum(col(c).isNull().cast(\"int\")).alias(c) for c in data1.columns)).show()\n",
    "\n",
    "# Checking for missing values in data2\n",
    "print(\"Missing values in data2:\")\n",
    "data2.select(*(pyspark_sum(col(c).isNull().cast(\"int\")).alias(c) for c in data2.columns)).show()"
   ]
  },
  {
   "cell_type": "code",
   "execution_count": 21,
   "id": "ce6efd07",
   "metadata": {},
   "outputs": [
    {
     "name": "stdout",
     "output_type": "stream",
     "text": [
      "Before remove unclassify value\n",
      "+-----------+-----+\n",
      "|AgeCategory|count|\n",
      "+-----------+-----+\n",
      "|      65-69|16062|\n",
      "|      75-79|10041|\n",
      "|      30-34| 9184|\n",
      "|        80+|10662|\n",
      "|      70-74|15133|\n",
      "|      18-24| 9442|\n",
      "|          4|    1|\n",
      "|      50-54|12384|\n",
      "|      35-39|10310|\n",
      "|      45-49|10269|\n",
      "|      25-29| 7706|\n",
      "|      40-44|10666|\n",
      "|      55-59|13803|\n",
      "|      60-64|15787|\n",
      "+-----------+-----+\n",
      "\n",
      "After remove unclassify value\n",
      "+-----------+-----+\n",
      "|AgeCategory|count|\n",
      "+-----------+-----+\n",
      "|      65-69|16062|\n",
      "|      75-79|10041|\n",
      "|      30-34| 9184|\n",
      "|        80+|10662|\n",
      "|      70-74|15133|\n",
      "|      18-24| 9442|\n",
      "|      50-54|12384|\n",
      "|      35-39|10310|\n",
      "|      45-49|10269|\n",
      "|      25-29| 7706|\n",
      "|      40-44|10666|\n",
      "|      55-59|13803|\n",
      "|      60-64|15787|\n",
      "+-----------+-----+\n",
      "\n"
     ]
    },
    {
     "name": "stderr",
     "output_type": "stream",
     "text": [
      "\r",
      "[Stage 230:============================>                            (1 + 1) / 2]\r",
      "\r",
      "                                                                                \r"
     ]
    }
   ],
   "source": [
    "#show AgeCategory count before remove unclassify value\n",
    "print(\"Before remove unclassify value\")\n",
    "data1.groupBy('AgeCategory').count().show()\n",
    "#remove unclassify value in Agecategories\n",
    "data1 = data1.filter(data1['AgeCategory'] != '4')\n",
    "#show AgeCategory count after remove unclassify value\n",
    "print(\"After remove unclassify value\")\n",
    "data1.groupBy('AgeCategory').count().show()"
   ]
  },
  {
   "cell_type": "code",
   "execution_count": 22,
   "id": "9539d598",
   "metadata": {},
   "outputs": [
    {
     "name": "stdout",
     "output_type": "stream",
     "text": [
      "Before remove unclassify value\n"
     ]
    },
    {
     "name": "stderr",
     "output_type": "stream",
     "text": [
      "\r",
      "[Stage 233:============================>                            (1 + 1) / 2]\r",
      "\r",
      "                                                                                \r"
     ]
    },
    {
     "name": "stdout",
     "output_type": "stream",
     "text": [
      "+--------------------+------+\n",
      "|            Diabetes| count|\n",
      "+--------------------+------+\n",
      "|No, pre-diabetes ...|  3488|\n",
      "|Yes, but female t...|  1285|\n",
      "|                  No|127385|\n",
      "|                 Yes| 19291|\n",
      "+--------------------+------+\n",
      "\n"
     ]
    },
    {
     "name": "stderr",
     "output_type": "stream",
     "text": [
      "\r",
      "[Stage 236:============================>                            (1 + 1) / 2]\r",
      "\r",
      "                                                                                \r"
     ]
    },
    {
     "name": "stdout",
     "output_type": "stream",
     "text": [
      "+--------------------+------+\n",
      "|            Diabetes| count|\n",
      "+--------------------+------+\n",
      "|No, pre-diabetes ...|  3408|\n",
      "|Yes, but female t...|  1361|\n",
      "|                  No|131738|\n",
      "|                 Yes| 20876|\n",
      "+--------------------+------+\n",
      "\n",
      "After remove unclassify value\n"
     ]
    },
    {
     "name": "stderr",
     "output_type": "stream",
     "text": [
      "\r",
      "[Stage 239:============================>                            (1 + 1) / 2]\r",
      "\r",
      "                                                                                \r"
     ]
    },
    {
     "name": "stdout",
     "output_type": "stream",
     "text": [
      "+--------+------+\n",
      "|Diabetes| count|\n",
      "+--------+------+\n",
      "|      No|130873|\n",
      "|     Yes| 20576|\n",
      "+--------+------+\n",
      "\n",
      "+--------+------+\n",
      "|Diabetes| count|\n",
      "+--------+------+\n",
      "|      No|135146|\n",
      "|     Yes| 22237|\n",
      "+--------+------+\n",
      "\n"
     ]
    }
   ],
   "source": [
    "#show Diabetes count before remove unclassify value\n",
    "print(\"Before remove unclassify value\")\n",
    "data1.groupBy('Diabetes').count().show()\n",
    "data2.groupBy('Diabetes').count().show()\n",
    "#remove unclassify value in Diabetes\n",
    "data1 = data1.withColumn(\n",
    "    'Diabetes',\n",
    "    when(data1['Diabetes'] == 'No, pre-diabetes or borderline diabetes', 'No')\n",
    "    .when(data1['Diabetes'] == 'Yes, but female told only during pregnancy', 'Yes')\n",
    "    .otherwise(data1['Diabetes'])\n",
    ")\n",
    "data2 = data2.withColumn(\n",
    "    'Diabetes',\n",
    "    when(data2['Diabetes'] == 'No, pre-diabetes or borderline diabetes', 'No')\n",
    "    .when(data2['Diabetes'] == 'Yes, but female told only during pregnancy', 'Yes')\n",
    "    .otherwise(data2['Diabetes'])\n",
    ")\n",
    "#show Diabetes count after remove unclassify value\n",
    "print(\"After remove unclassify value\")\n",
    "data1.groupBy('Diabetes').count().show()\n",
    "data2.groupBy('Diabetes').count().show()"
   ]
  },
  {
   "cell_type": "code",
   "execution_count": 23,
   "id": "497bf3b7",
   "metadata": {},
   "outputs": [
    {
     "name": "stderr",
     "output_type": "stream",
     "text": [
      "[Stage 251:============================>                            (1 + 1) / 2]\r"
     ]
    },
    {
     "name": "stdout",
     "output_type": "stream",
     "text": [
      "Number of duplicates before remove: 74\n"
     ]
    },
    {
     "name": "stderr",
     "output_type": "stream",
     "text": [
      "[Stage 263:============================>                            (1 + 1) / 2]\r"
     ]
    },
    {
     "name": "stdout",
     "output_type": "stream",
     "text": [
      "Number of duplicates after remove: 0\n"
     ]
    },
    {
     "name": "stderr",
     "output_type": "stream",
     "text": [
      "\r",
      "[Stage 265:>                                                        (0 + 2) / 2]\r",
      "\r",
      "                                                                                \r"
     ]
    }
   ],
   "source": [
    "from pyspark.sql.functions import col\n",
    "\n",
    "# Count duplicates\n",
    "duplicate_count_data1 = data1.groupBy(data1.columns).count().filter(col('count') > 1).count()\n",
    "duplicate_count_data2 = data2.groupBy(data2.columns).count().filter(col('count') > 1).count()\n",
    "duplicate_count = duplicate_count_data1 + duplicate_count_data2\n",
    "# Print the count\n",
    "print(\"Number of duplicates before remove:\", duplicate_count)\n",
    "\n",
    "# Remove duplicate rows\n",
    "data1 = data1.dropDuplicates()\n",
    "data2 = data2.dropDuplicates()\n",
    "\n",
    "# Count duplicates after removal\n",
    "duplicate_count_data1_after = data1.groupBy(data1.columns).count().filter(col('count') > 1).count()\n",
    "duplicate_count_data2_after = data2.groupBy(data2.columns).count().filter(col('count') > 1).count()\n",
    "duplicate_count_after = duplicate_count_data1_after + duplicate_count_data2_after\n",
    "\n",
    "# Print the count\n",
    "print(\"Number of duplicates after remove:\", duplicate_count_after)"
   ]
  },
  {
   "cell_type": "code",
   "execution_count": 24,
   "id": "5647ab23",
   "metadata": {},
   "outputs": [
    {
     "name": "stderr",
     "output_type": "stream",
     "text": [
      "                                                                                \r"
     ]
    },
    {
     "name": "stdout",
     "output_type": "stream",
     "text": [
      "Number of records in data1: 151413\n"
     ]
    },
    {
     "name": "stderr",
     "output_type": "stream",
     "text": [
      "                                                                                \r"
     ]
    },
    {
     "name": "stdout",
     "output_type": "stream",
     "text": [
      "Number of records in data2: 157345\n"
     ]
    },
    {
     "name": "stderr",
     "output_type": "stream",
     "text": [
      "[Stage 282:============================>                            (1 + 1) / 2]\r"
     ]
    },
    {
     "name": "stdout",
     "output_type": "stream",
     "text": [
      "Number of records in df: 308758\n"
     ]
    },
    {
     "name": "stderr",
     "output_type": "stream",
     "text": [
      "\r",
      "[Stage 285:============================>                            (2 + 2) / 4]\r",
      "\r",
      "                                                                                \r"
     ]
    }
   ],
   "source": [
    "#append data1 and data2\n",
    "df = data1.union(data2)\n",
    "# Count for data1\n",
    "data1_count = data1.count()\n",
    "print(f\"Number of records in data1: {data1_count}\")\n",
    "# Count for data2\n",
    "data2_count = data2.count()\n",
    "print(f\"Number of records in data2: {data2_count}\")\n",
    "# Count for df\n",
    "df_count = df.count()\n",
    "print(f\"Number of records in df: {df_count}\")"
   ]
  },
  {
   "cell_type": "code",
   "execution_count": 25,
   "id": "4525b5d4",
   "metadata": {},
   "outputs": [
    {
     "name": "stderr",
     "output_type": "stream",
     "text": [
      "                                                                                \r"
     ]
    },
    {
     "name": "stdout",
     "output_type": "stream",
     "text": [
      "Outliers for Height(cm) before remove outlier: 1055\n",
      "Outliers for Height(cm) after remove outlier: 0\n"
     ]
    },
    {
     "name": "stderr",
     "output_type": "stream",
     "text": [
      "                                                                                \r"
     ]
    },
    {
     "name": "stdout",
     "output_type": "stream",
     "text": [
      "Outliers for Weight(kg) before remove outlier: 7205\n"
     ]
    },
    {
     "name": "stderr",
     "output_type": "stream",
     "text": [
      "                                                                                \r"
     ]
    },
    {
     "name": "stdout",
     "output_type": "stream",
     "text": [
      "Outliers for Weight(kg) after remove outlier: 0\n"
     ]
    },
    {
     "name": "stderr",
     "output_type": "stream",
     "text": [
      "                                                                                \r"
     ]
    },
    {
     "name": "stdout",
     "output_type": "stream",
     "text": [
      "Outliers for BMI before remove outlier: 6453\n",
      "Outliers for BMI after remove outlier: 0\n"
     ]
    },
    {
     "name": "stderr",
     "output_type": "stream",
     "text": [
      "                                                                                \r"
     ]
    },
    {
     "name": "stdout",
     "output_type": "stream",
     "text": [
      "Outliers for AlcoholConsumption before remove outlier: 35406\n"
     ]
    },
    {
     "name": "stderr",
     "output_type": "stream",
     "text": [
      "                                                                                \r"
     ]
    },
    {
     "name": "stdout",
     "output_type": "stream",
     "text": [
      "Outliers for AlcoholConsumption after remove outlier: 0\n"
     ]
    },
    {
     "name": "stderr",
     "output_type": "stream",
     "text": [
      "                                                                                \r"
     ]
    },
    {
     "name": "stdout",
     "output_type": "stream",
     "text": [
      "Outliers for FruitConsumption before remove outlier: 58266\n"
     ]
    },
    {
     "name": "stderr",
     "output_type": "stream",
     "text": [
      "                                                                                \r"
     ]
    },
    {
     "name": "stdout",
     "output_type": "stream",
     "text": [
      "Outliers for FruitConsumption after remove outlier: 0\n"
     ]
    },
    {
     "name": "stderr",
     "output_type": "stream",
     "text": [
      "                                                                                \r"
     ]
    },
    {
     "name": "stdout",
     "output_type": "stream",
     "text": [
      "Outliers for GreenVegetablesConsumption before remove outlier: 5246\n"
     ]
    },
    {
     "name": "stderr",
     "output_type": "stream",
     "text": [
      "\r",
      "[Stage 420:>                                                        (0 + 2) / 2]\r",
      "\r",
      "                                                                                \r"
     ]
    },
    {
     "name": "stdout",
     "output_type": "stream",
     "text": [
      "Outliers for GreenVegetablesConsumption after remove outlier: 0\n"
     ]
    },
    {
     "name": "stderr",
     "output_type": "stream",
     "text": [
      "                                                                                \r"
     ]
    },
    {
     "name": "stdout",
     "output_type": "stream",
     "text": [
      "Outliers for FriedPotatoConsumption before remove outlier: 12375\n",
      "Outliers for FriedPotatoConsumption after remove outlier: 0\n"
     ]
    }
   ],
   "source": [
    "for feature in numerical_features:\n",
    "    # Calculate Q1 and Q3\n",
    "    quantiles = df.approxQuantile(feature, [0.25, 0.75], 0.01)\n",
    "    Q1 = quantiles[0]\n",
    "    Q3 = quantiles[1]\n",
    "    # Compute IQR\n",
    "    IQR = Q3 - Q1  \n",
    "    # Define boundaries for outliers\n",
    "    lower_bound = Q1 - 1.5 * IQR\n",
    "    upper_bound = Q3 + 1.5 * IQR\n",
    "    # Filter out outliers\n",
    "    outliers = df.filter((col(feature) < lower_bound) | (col(feature) > upper_bound))\n",
    "    # Print results\n",
    "    print(f\"Outliers for {feature} before remove outlier: {outliers.count()}\")\n",
    "    # Removing outliers from data1\n",
    "    df = df.filter((col(feature) >= lower_bound) & (col(feature) <= upper_bound))\n",
    "    # Filter out outliers\n",
    "    outliers = df.filter((col(feature) < lower_bound) | (col(feature) > upper_bound))\n",
    "    # Print results\n",
    "    print(f\"Outliers for {feature} after remove outlier: {outliers.count()}\")"
   ]
  },
  {
   "cell_type": "code",
   "execution_count": 26,
   "id": "2e6deceb",
   "metadata": {},
   "outputs": [
    {
     "name": "stderr",
     "output_type": "stream",
     "text": [
      "[Stage 452:============================>                            (1 + 1) / 2]\r"
     ]
    },
    {
     "name": "stdout",
     "output_type": "stream",
     "text": [
      "+------------------+-----+\n",
      "|AlcoholConsumption|count|\n",
      "+------------------+-----+\n",
      "|                12| 5900|\n",
      "|                 1|16711|\n",
      "|                13|   53|\n",
      "|                 6| 2423|\n",
      "|                 3| 7748|\n",
      "|                 5| 6654|\n",
      "|                15| 4355|\n",
      "|                 9|  162|\n",
      "|                 4|15776|\n",
      "|                 8| 8958|\n",
      "|                 7| 1822|\n",
      "|                10| 5449|\n",
      "|                11|   26|\n",
      "|                14|  338|\n",
      "|                 2|13288|\n",
      "|                 0|93089|\n",
      "+------------------+-----+\n",
      "\n"
     ]
    },
    {
     "name": "stderr",
     "output_type": "stream",
     "text": [
      "\r",
      "                                                                                \r"
     ]
    }
   ],
   "source": [
    "#show AlcoholConsumption count\n",
    "df.groupBy('AlcoholConsumption').count().show()"
   ]
  },
  {
   "cell_type": "code",
   "execution_count": 27,
   "id": "afebd478",
   "metadata": {},
   "outputs": [
    {
     "name": "stdout",
     "output_type": "stream",
     "text": [
      "root\n",
      " |-- General_Health: string (nullable = true)\n",
      " |-- Exercise: string (nullable = true)\n",
      " |-- HeartDisease: string (nullable = true)\n",
      " |-- SkinCancer: string (nullable = true)\n",
      " |-- OtherCancer: string (nullable = true)\n",
      " |-- Depression: string (nullable = true)\n",
      " |-- Diabetes: string (nullable = true)\n",
      " |-- Arthritis: string (nullable = true)\n",
      " |-- Sex: string (nullable = true)\n",
      " |-- AgeCategory: string (nullable = true)\n",
      " |-- Height(cm): integer (nullable = true)\n",
      " |-- Weight(kg): double (nullable = true)\n",
      " |-- BMI: double (nullable = true)\n",
      " |-- SmokingHistory: string (nullable = true)\n",
      " |-- AlcoholConsumption: integer (nullable = true)\n",
      " |-- FruitConsumption: integer (nullable = true)\n",
      " |-- GreenVegetablesConsumption: integer (nullable = true)\n",
      " |-- FriedPotatoConsumption: integer (nullable = true)\n",
      "\n",
      "root\n",
      " |-- General_Health: string (nullable = true)\n",
      " |-- Exercise: string (nullable = true)\n",
      " |-- HeartDisease: string (nullable = true)\n",
      " |-- SkinCancer: string (nullable = true)\n",
      " |-- OtherCancer: string (nullable = true)\n",
      " |-- Depression: string (nullable = true)\n",
      " |-- Diabetes: string (nullable = true)\n",
      " |-- Arthritis: string (nullable = true)\n",
      " |-- Sex: string (nullable = true)\n",
      " |-- AgeCategory: string (nullable = true)\n",
      " |-- Height(cm): integer (nullable = true)\n",
      " |-- Weight(kg): double (nullable = true)\n",
      " |-- BMI: double (nullable = true)\n",
      " |-- SmokingHistory: string (nullable = true)\n",
      " |-- AlcoholConsumption: integer (nullable = true)\n",
      " |-- FruitConsumption: integer (nullable = true)\n",
      " |-- GreenVegetablesConsumption: integer (nullable = true)\n",
      " |-- FriedPotatoConsumption: integer (nullable = true)\n",
      " |-- DrinkingAlcohol: string (nullable = false)\n",
      "\n"
     ]
    }
   ],
   "source": [
    "#print data schma before construct data\n",
    "df.printSchema()\n",
    "#construct data\n",
    "df = df.withColumn(\"DrinkingAlcohol\", when(col(\"AlcoholConsumption\") == 0, \"No\").otherwise(\"Yes\"))\n",
    "#print data schma after construct data\n",
    "df.printSchema()"
   ]
  },
  {
   "cell_type": "code",
   "execution_count": 28,
   "id": "cc567706",
   "metadata": {},
   "outputs": [
    {
     "name": "stderr",
     "output_type": "stream",
     "text": [
      "                                                                                \r"
     ]
    },
    {
     "name": "stdout",
     "output_type": "stream",
     "text": [
      "root\n",
      " |-- General_Health: string (nullable = true)\n",
      " |-- Exercise: string (nullable = true)\n",
      " |-- HeartDisease: string (nullable = true)\n",
      " |-- SkinCancer: string (nullable = true)\n",
      " |-- OtherCancer: string (nullable = true)\n",
      " |-- Depression: string (nullable = true)\n",
      " |-- Diabetes: string (nullable = true)\n",
      " |-- Arthritis: string (nullable = true)\n",
      " |-- Sex: string (nullable = true)\n",
      " |-- AgeCategory: string (nullable = true)\n",
      " |-- Height(cm): integer (nullable = true)\n",
      " |-- Weight(kg): double (nullable = true)\n",
      " |-- BMI: double (nullable = true)\n",
      " |-- SmokingHistory: string (nullable = true)\n",
      " |-- AlcoholConsumption: integer (nullable = true)\n",
      " |-- FruitConsumption: integer (nullable = true)\n",
      " |-- GreenVegetablesConsumption: integer (nullable = true)\n",
      " |-- FriedPotatoConsumption: integer (nullable = true)\n",
      " |-- DrinkingAlcohol: string (nullable = false)\n",
      " |-- General_Health_indexed: double (nullable = false)\n",
      " |-- Exercise_indexed: double (nullable = false)\n",
      " |-- HeartDisease_indexed: double (nullable = false)\n",
      " |-- SkinCancer_indexed: double (nullable = false)\n",
      " |-- OtherCancer_indexed: double (nullable = false)\n",
      " |-- Depression_indexed: double (nullable = false)\n",
      " |-- Diabetes_indexed: double (nullable = false)\n",
      " |-- Arthritis_indexed: double (nullable = false)\n",
      " |-- Sex_indexed: double (nullable = false)\n",
      " |-- AgeCategory_indexed: double (nullable = false)\n",
      " |-- SmokingHistory_indexed: double (nullable = false)\n",
      " |-- DrinkingAlcohol_indexed: double (nullable = false)\n",
      "\n"
     ]
    }
   ],
   "source": [
    "from pyspark.ml.feature import StringIndexer\n",
    "from pyspark.ml import Pipeline\n",
    "# Categorical columns that need to be indexed and encoded\n",
    "categorical_columns = [\n",
    "    'General_Health', 'Exercise', 'HeartDisease', 'SkinCancer', 'OtherCancer',\n",
    "    'Depression', 'Diabetes', 'Arthritis', 'Sex', 'AgeCategory', 'SmokingHistory', 'DrinkingAlcohol'\n",
    "]\n",
    "# String Indexing\n",
    "indexers = [StringIndexer(inputCol=column, outputCol=f\"{column}_indexed\").fit(df) for column in categorical_columns]\n",
    "# Create a Pipeline\n",
    "pipeline = Pipeline(stages=indexers)\n",
    "# Fit and transform the pipeline on your data\n",
    "transformed_df = pipeline.fit(df).transform(df)\n",
    "# Let's print the schema of the transformed DataFrame to see the changes\n",
    "transformed_df.printSchema()"
   ]
  },
  {
   "cell_type": "code",
   "execution_count": 29,
   "id": "f8ae1bfb",
   "metadata": {},
   "outputs": [
    {
     "name": "stderr",
     "output_type": "stream",
     "text": [
      "[Stage 654:>                                                        (0 + 2) / 2]\r"
     ]
    },
    {
     "name": "stdout",
     "output_type": "stream",
     "text": [
      "The 4 features least correlated with HeartDisease are: ['FruitConsumption', 'Height(cm)', 'GreenVegetablesConsumption', 'FriedPotatoConsumption']\n"
     ]
    },
    {
     "name": "stderr",
     "output_type": "stream",
     "text": [
      "\r",
      "                                                                                \r"
     ]
    }
   ],
   "source": [
    "# Define numerical features \n",
    "numerical_features = [\n",
    "    'Height(cm)', 'Weight(kg)', 'BMI', 'AlcoholConsumption', \n",
    "    'FruitConsumption', 'GreenVegetablesConsumption', 'FriedPotatoConsumption',\n",
    "    'General_Health_indexed', 'Exercise_indexed', 'SkinCancer_indexed', 'OtherCancer_indexed',\n",
    "    'Depression_indexed', 'Diabetes_indexed', 'Arthritis_indexed', 'Sex_indexed',\n",
    "    'AgeCategory_indexed', 'SmokingHistory_indexed', 'DrinkingAlcohol_indexed'\n",
    "]\n",
    "# Computing Correlations\n",
    "correlations = {feature: transformed_df.stat.corr(feature, 'HeartDisease_indexed') for feature in numerical_features}\n",
    "# Sorting Based on Absolute Correlation:\n",
    "least_correlated_features = sorted(correlations.keys(), key=lambda x: abs(correlations[x]))[:4]\n",
    "#Printing the 4 features least correlated with HeartDisease Results\n",
    "print(\"The 4 features least correlated with HeartDisease are:\", least_correlated_features)"
   ]
  },
  {
   "cell_type": "code",
   "execution_count": 30,
   "id": "77e535d9",
   "metadata": {},
   "outputs": [
    {
     "name": "stdout",
     "output_type": "stream",
     "text": [
      "root\n",
      " |-- General_Health: string (nullable = true)\n",
      " |-- Exercise: string (nullable = true)\n",
      " |-- HeartDisease: string (nullable = true)\n",
      " |-- SkinCancer: string (nullable = true)\n",
      " |-- OtherCancer: string (nullable = true)\n",
      " |-- Depression: string (nullable = true)\n",
      " |-- Diabetes: string (nullable = true)\n",
      " |-- Arthritis: string (nullable = true)\n",
      " |-- Sex: string (nullable = true)\n",
      " |-- AgeCategory: string (nullable = true)\n",
      " |-- Height(cm): integer (nullable = true)\n",
      " |-- Weight(kg): double (nullable = true)\n",
      " |-- BMI: double (nullable = true)\n",
      " |-- SmokingHistory: string (nullable = true)\n",
      " |-- AlcoholConsumption: integer (nullable = true)\n",
      " |-- FruitConsumption: integer (nullable = true)\n",
      " |-- GreenVegetablesConsumption: integer (nullable = true)\n",
      " |-- FriedPotatoConsumption: integer (nullable = true)\n",
      " |-- DrinkingAlcohol: string (nullable = false)\n",
      " |-- General_Health_indexed: double (nullable = false)\n",
      " |-- Exercise_indexed: double (nullable = false)\n",
      " |-- HeartDisease_indexed: double (nullable = false)\n",
      " |-- SkinCancer_indexed: double (nullable = false)\n",
      " |-- OtherCancer_indexed: double (nullable = false)\n",
      " |-- Depression_indexed: double (nullable = false)\n",
      " |-- Diabetes_indexed: double (nullable = false)\n",
      " |-- Arthritis_indexed: double (nullable = false)\n",
      " |-- Sex_indexed: double (nullable = false)\n",
      " |-- AgeCategory_indexed: double (nullable = false)\n",
      " |-- SmokingHistory_indexed: double (nullable = false)\n",
      " |-- DrinkingAlcohol_indexed: double (nullable = false)\n",
      "\n",
      "root\n",
      " |-- General_Health: string (nullable = true)\n",
      " |-- Exercise: string (nullable = true)\n",
      " |-- HeartDisease: string (nullable = true)\n",
      " |-- SkinCancer: string (nullable = true)\n",
      " |-- OtherCancer: string (nullable = true)\n",
      " |-- Depression: string (nullable = true)\n",
      " |-- Diabetes: string (nullable = true)\n",
      " |-- Arthritis: string (nullable = true)\n",
      " |-- Sex: string (nullable = true)\n",
      " |-- AgeCategory: string (nullable = true)\n",
      " |-- Weight(kg): double (nullable = true)\n",
      " |-- BMI: double (nullable = true)\n",
      " |-- SmokingHistory: string (nullable = true)\n",
      " |-- AlcoholConsumption: integer (nullable = true)\n",
      " |-- DrinkingAlcohol: string (nullable = false)\n",
      " |-- General_Health_indexed: double (nullable = false)\n",
      " |-- Exercise_indexed: double (nullable = false)\n",
      " |-- HeartDisease_indexed: double (nullable = false)\n",
      " |-- SkinCancer_indexed: double (nullable = false)\n",
      " |-- OtherCancer_indexed: double (nullable = false)\n",
      " |-- Depression_indexed: double (nullable = false)\n",
      " |-- Diabetes_indexed: double (nullable = false)\n",
      " |-- Arthritis_indexed: double (nullable = false)\n",
      " |-- Sex_indexed: double (nullable = false)\n",
      " |-- AgeCategory_indexed: double (nullable = false)\n",
      " |-- SmokingHistory_indexed: double (nullable = false)\n",
      " |-- DrinkingAlcohol_indexed: double (nullable = false)\n",
      "\n"
     ]
    }
   ],
   "source": [
    "#print before drop least correlated columns \n",
    "transformed_df.printSchema()\n",
    "# Drop the least correlated columns from the DataFrame\n",
    "transformed_df = transformed_df.drop(*least_correlated_features)\n",
    "# Verify the columns have been dropped\n",
    "transformed_df.printSchema()"
   ]
  },
  {
   "cell_type": "code",
   "execution_count": 31,
   "id": "19c893f5",
   "metadata": {
    "scrolled": true
   },
   "outputs": [
    {
     "name": "stderr",
     "output_type": "stream",
     "text": [
      "\r",
      "[Stage 658:========>        (1 + 1) / 2][Stage 659:>                (0 + 1) / 2]\r",
      "\r",
      "[Stage 659:>                                                        (0 + 2) / 2]\r"
     ]
    },
    {
     "name": "stdout",
     "output_type": "stream",
     "text": [
      "+------------+------+\n",
      "|HeartDisease| count|\n",
      "+------------+------+\n",
      "|          No|167181|\n",
      "|         Yes| 15571|\n",
      "+------------+------+\n",
      "\n"
     ]
    },
    {
     "name": "stderr",
     "output_type": "stream",
     "text": [
      "\r",
      "                                                                                \r"
     ]
    }
   ],
   "source": [
    "#show HeartDisease count\n",
    "transformed_df.groupBy('HeartDisease').count().show()"
   ]
  },
  {
   "cell_type": "code",
   "execution_count": 32,
   "id": "48ed1e29",
   "metadata": {},
   "outputs": [
    {
     "name": "stderr",
     "output_type": "stream",
     "text": [
      "[Stage 688:==================================================>  (385 + 2) / 401]\r"
     ]
    },
    {
     "name": "stdout",
     "output_type": "stream",
     "text": [
      "+------------+-----+\n",
      "|HeartDisease|count|\n",
      "+------------+-----+\n",
      "|          No|15571|\n",
      "|         Yes|15571|\n",
      "+------------+-----+\n",
      "\n"
     ]
    },
    {
     "name": "stderr",
     "output_type": "stream",
     "text": [
      "\r",
      "[Stage 688:====================================================>(398 + 2) / 401]\r",
      "\r",
      "                                                                                \r"
     ]
    }
   ],
   "source": [
    "#Separate the data by class\n",
    "df_no = transformed_df.filter(transformed_df['HeartDisease'] == 'No')\n",
    "df_yes = transformed_df.filter(transformed_df['HeartDisease'] == 'Yes')\n",
    "#Undersample the majority class\n",
    "count_yes = df_yes.count()\n",
    "df_no_sampled = df_no.sample(withReplacement=False, fraction=1.0).limit(count_yes)\n",
    "#Combine the undersampled majority class DataFrame with the minority class DataFrame\n",
    "balanced_df = df_no_sampled.union(df_yes)\n",
    "#Verify the balanced data:\n",
    "balanced_df.groupBy('HeartDisease').count().show()"
   ]
  },
  {
   "cell_type": "code",
   "execution_count": 33,
   "id": "409deabd",
   "metadata": {
    "scrolled": true
   },
   "outputs": [
    {
     "name": "stderr",
     "output_type": "stream",
     "text": [
      "                                                                                \r"
     ]
    },
    {
     "name": "stdout",
     "output_type": "stream",
     "text": [
      "Number of training records: 24935\n"
     ]
    },
    {
     "name": "stderr",
     "output_type": "stream",
     "text": [
      "[Stage 718:====================================================>(397 + 2) / 401]\r"
     ]
    },
    {
     "name": "stdout",
     "output_type": "stream",
     "text": [
      "Number of test records: 6207\n"
     ]
    },
    {
     "name": "stderr",
     "output_type": "stream",
     "text": [
      "\r",
      "                                                                                \r"
     ]
    }
   ],
   "source": [
    "from pyspark.ml.feature import VectorAssembler\n",
    "\n",
    "# Split the data into training and test sets (80% train, 20% test)\n",
    "train_data, test_data = balanced_df.randomSplit([0.8, 0.2], seed=42)\n",
    "\n",
    "# Define a VectorAssembler\n",
    "input_features = [col for col in train_data.columns \n",
    "                  if (col.endswith(\"_indexed\") and col != \"HeartDisease_indexed\") \n",
    "                  or col in ['Weight(kg)', 'BMI', 'AlcoholConsumption']]\n",
    "\n",
    "assembler = VectorAssembler(inputCols=input_features, outputCol=\"features\")\n",
    "\n",
    "# Assemble features for training data\n",
    "train_data = assembler.transform(train_data)\n",
    "\n",
    "# Assemble features for test data\n",
    "test_data = assembler.transform(test_data)\n",
    "\n",
    "# Displaying the count for training and test data\n",
    "print(f\"Number of training records: {train_data.count()}\")\n",
    "print(f\"Number of test records: {test_data.count()}\")"
   ]
  },
  {
   "cell_type": "code",
   "execution_count": 34,
   "id": "002910b9",
   "metadata": {},
   "outputs": [],
   "source": [
    "#Algorithm selection\n",
    "from pyspark.ml.evaluation import BinaryClassificationEvaluator, MulticlassClassificationEvaluator\n",
    "# Define evaluation metrics\n",
    "binary_evaluator = BinaryClassificationEvaluator(labelCol=\"HeartDisease_indexed\", metricName=\"areaUnderROC\")\n",
    "multiclass_evaluator = MulticlassClassificationEvaluator(labelCol=\"HeartDisease_indexed\")\n",
    "# Define evaluation method\n",
    "def evaluate_model(model, test_data):\n",
    "    # Use the model to predict the test data\n",
    "    predictions = model.transform(test_data)  \n",
    "    # Calculate metrics\n",
    "    accuracy = multiclass_evaluator.evaluate(predictions, {multiclass_evaluator.metricName: \"accuracy\"})\n",
    "    precision = multiclass_evaluator.evaluate(predictions, {multiclass_evaluator.metricName: \"weightedPrecision\"})\n",
    "    recall = multiclass_evaluator.evaluate(predictions, {multiclass_evaluator.metricName: \"weightedRecall\"})\n",
    "    f1 = multiclass_evaluator.evaluate(predictions, {multiclass_evaluator.metricName: \"f1\"})\n",
    "    roc_auc = binary_evaluator.evaluate(predictions)    \n",
    "    # Excute confusion_matrix\n",
    "    confusion_matrix = predictions.groupBy('HeartDisease_indexed').pivot('prediction').count().na.fill(0)\n",
    "    return {\n",
    "        \"Accuracy\": accuracy,\n",
    "        \"Precision\": precision,\n",
    "        \"Recall\": recall,\n",
    "        \"F1-Score\": f1,\n",
    "        \"ROC AUC\": roc_auc,\n",
    "        \"Confusion Matrix\": confusion_matrix\n",
    "    }"
   ]
  },
  {
   "cell_type": "code",
   "execution_count": 35,
   "id": "dc676ed4",
   "metadata": {},
   "outputs": [],
   "source": [
    "# Define models dictionary\n",
    "from pyspark.ml.classification import LogisticRegression, DecisionTreeClassifier, RandomForestClassifier, GBTClassifier, NaiveBayes\n",
    "# Initialise model\n",
    "lr = LogisticRegression(labelCol=\"HeartDisease_indexed\", featuresCol=\"features\")\n",
    "dt = DecisionTreeClassifier(labelCol=\"HeartDisease_indexed\", featuresCol=\"features\")\n",
    "rf = RandomForestClassifier(labelCol=\"HeartDisease_indexed\", featuresCol=\"features\")\n",
    "gbt = GBTClassifier(labelCol=\"HeartDisease_indexed\", featuresCol=\"features\")\n",
    "nb = NaiveBayes(labelCol=\"HeartDisease_indexed\", featuresCol=\"features\")"
   ]
  },
  {
   "cell_type": "code",
   "execution_count": 36,
   "id": "1151ee9e",
   "metadata": {},
   "outputs": [
    {
     "name": "stderr",
     "output_type": "stream",
     "text": [
      "                                                                                \r"
     ]
    }
   ],
   "source": [
    "# Model training\n",
    "lr_model = lr.fit(train_data)\n",
    "dt_model = dt.fit(train_data)\n",
    "rf_model = rf.fit(train_data)\n",
    "gbt_model = gbt.fit(train_data)\n",
    "nb_model = nb.fit(train_data)"
   ]
  },
  {
   "cell_type": "code",
   "execution_count": 37,
   "id": "5b3a3c91",
   "metadata": {},
   "outputs": [
    {
     "name": "stdout",
     "output_type": "stream",
     "text": [
      "===== Logistic Regression Evaluation Results =====\n"
     ]
    },
    {
     "name": "stderr",
     "output_type": "stream",
     "text": [
      "                                                                                \r"
     ]
    },
    {
     "name": "stdout",
     "output_type": "stream",
     "text": [
      "Accuracy: 0.7308\n",
      "Precision: 0.7310\n",
      "Recall: 0.7308\n",
      "F1-Score: 0.7308\n",
      "ROC AUC: 0.8025\n",
      "Confusion Matrix:\n"
     ]
    },
    {
     "name": "stderr",
     "output_type": "stream",
     "text": [
      "                                                                                \r"
     ]
    },
    {
     "name": "stdout",
     "output_type": "stream",
     "text": [
      "+--------------------+----+----+\n",
      "|HeartDisease_indexed| 0.0| 1.0|\n",
      "+--------------------+----+----+\n",
      "|                 0.0|2252| 804|\n",
      "|                 1.0| 867|2284|\n",
      "+--------------------+----+----+\n",
      "\n",
      "\n",
      "========================================\n",
      "\n",
      "===== Decision Tree Evaluation Results =====\n"
     ]
    },
    {
     "name": "stderr",
     "output_type": "stream",
     "text": [
      "                                                                                \r"
     ]
    },
    {
     "name": "stdout",
     "output_type": "stream",
     "text": [
      "Accuracy: 0.7496\n",
      "Precision: 0.7617\n",
      "Recall: 0.7496\n",
      "F1-Score: 0.7461\n",
      "ROC AUC: 0.7178\n",
      "Confusion Matrix:\n"
     ]
    },
    {
     "name": "stderr",
     "output_type": "stream",
     "text": [
      "                                                                                \r"
     ]
    },
    {
     "name": "stdout",
     "output_type": "stream",
     "text": [
      "+--------------------+----+----+\n",
      "|HeartDisease_indexed| 0.0| 1.0|\n",
      "+--------------------+----+----+\n",
      "|                 0.0|1936|1120|\n",
      "|                 1.0| 434|2717|\n",
      "+--------------------+----+----+\n",
      "\n",
      "\n",
      "========================================\n",
      "\n",
      "===== Random Forest Evaluation Results =====\n"
     ]
    },
    {
     "name": "stderr",
     "output_type": "stream",
     "text": [
      "                                                                                \r"
     ]
    },
    {
     "name": "stdout",
     "output_type": "stream",
     "text": [
      "Accuracy: 0.7533\n",
      "Precision: 0.7597\n",
      "Recall: 0.7533\n",
      "F1-Score: 0.7514\n",
      "ROC AUC: 0.8204\n",
      "Confusion Matrix:\n"
     ]
    },
    {
     "name": "stderr",
     "output_type": "stream",
     "text": [
      "                                                                                \r"
     ]
    },
    {
     "name": "stdout",
     "output_type": "stream",
     "text": [
      "+--------------------+----+----+\n",
      "|HeartDisease_indexed| 0.0| 1.0|\n",
      "+--------------------+----+----+\n",
      "|                 0.0|2037|1019|\n",
      "|                 1.0| 512|2639|\n",
      "+--------------------+----+----+\n",
      "\n",
      "\n",
      "========================================\n",
      "\n",
      "===== GBTClassifier Evaluation Results =====\n"
     ]
    },
    {
     "name": "stderr",
     "output_type": "stream",
     "text": [
      "23/10/11 03:53:36 WARN InstanceBuilder$NativeBLAS: Failed to load implementation from:dev.ludovic.netlib.blas.JNIBLAS\n",
      "23/10/11 03:53:36 WARN InstanceBuilder$NativeBLAS: Failed to load implementation from:dev.ludovic.netlib.blas.ForeignLinkerBLAS\n",
      "                                                                                \r"
     ]
    },
    {
     "name": "stdout",
     "output_type": "stream",
     "text": [
      "Accuracy: 0.7562\n",
      "Precision: 0.7579\n",
      "Recall: 0.7562\n",
      "F1-Score: 0.7556\n",
      "ROC AUC: 0.8353\n",
      "Confusion Matrix:\n"
     ]
    },
    {
     "name": "stderr",
     "output_type": "stream",
     "text": [
      "                                                                                \r"
     ]
    },
    {
     "name": "stdout",
     "output_type": "stream",
     "text": [
      "+--------------------+----+----+\n",
      "|HeartDisease_indexed| 0.0| 1.0|\n",
      "+--------------------+----+----+\n",
      "|                 0.0|2163| 893|\n",
      "|                 1.0| 620|2531|\n",
      "+--------------------+----+----+\n",
      "\n",
      "\n",
      "========================================\n",
      "\n",
      "===== NaiveBayes Evaluation Results =====\n"
     ]
    },
    {
     "name": "stderr",
     "output_type": "stream",
     "text": [
      "                                                                                \r"
     ]
    },
    {
     "name": "stdout",
     "output_type": "stream",
     "text": [
      "Accuracy: 0.6912\n",
      "Precision: 0.6931\n",
      "Recall: 0.6912\n",
      "F1-Score: 0.6899\n",
      "ROC AUC: 0.4871\n",
      "Confusion Matrix:\n"
     ]
    },
    {
     "name": "stderr",
     "output_type": "stream",
     "text": [
      "[Stage 2338:==================================================> (390 + 2) / 401]\r"
     ]
    },
    {
     "name": "stdout",
     "output_type": "stream",
     "text": [
      "+--------------------+----+----+\n",
      "|HeartDisease_indexed| 0.0| 1.0|\n",
      "+--------------------+----+----+\n",
      "|                 0.0|1921|1135|\n",
      "|                 1.0| 782|2369|\n",
      "+--------------------+----+----+\n",
      "\n",
      "\n",
      "========================================\n",
      "\n"
     ]
    },
    {
     "name": "stderr",
     "output_type": "stream",
     "text": [
      "\r",
      "                                                                                \r"
     ]
    }
   ],
   "source": [
    "# Evaluate model\n",
    "models = {\n",
    "    \"Logistic Regression\": lr_model,\n",
    "    \"Decision Tree\": dt_model,\n",
    "    \"Random Forest\": rf_model,\n",
    "    \"GBTClassifier\": gbt_model,\n",
    "    \"NaiveBayes\": nb_model\n",
    "}\n",
    "\n",
    "for name, model in models.items():\n",
    "    print(f\"===== {name} Evaluation Results =====\")\n",
    "    results = evaluate_model(model, test_data)\n",
    "    for metric, value in results.items():\n",
    "        if metric != \"Confusion Matrix\":\n",
    "            print(f\"{metric}: {value:.4f}\")\n",
    "        else:\n",
    "            print(metric + \":\")\n",
    "            value.show()\n",
    "    print(\"\\n\" + \"=\"*40 + \"\\n\")"
   ]
  },
  {
   "cell_type": "code",
   "execution_count": 36,
   "id": "209f6456",
   "metadata": {},
   "outputs": [
    {
     "name": "stderr",
     "output_type": "stream",
     "text": [
      "                                                                                \r"
     ]
    },
    {
     "name": "stdout",
     "output_type": "stream",
     "text": [
      "Number of training records: 21846\n"
     ]
    },
    {
     "name": "stderr",
     "output_type": "stream",
     "text": [
      "[Stage 746:==================================================>  (383 + 2) / 401]\r"
     ]
    },
    {
     "name": "stdout",
     "output_type": "stream",
     "text": [
      "Number of test records: 9296\n"
     ]
    },
    {
     "name": "stderr",
     "output_type": "stream",
     "text": [
      "\r",
      "[Stage 746:====================================================>(398 + 2) / 401]\r",
      "\r",
      "                                                                                \r"
     ]
    }
   ],
   "source": [
    "# Split the data into training and test sets (70% train, 30% test)\n",
    "train_data, test_data = balanced_df.randomSplit([0.7, 0.3], seed=42)\n",
    "\n",
    "# Define a VectorAssembler\n",
    "input_features = [col for col in train_data.columns \n",
    "                  if (col.endswith(\"_indexed\") and col != \"HeartDisease_indexed\") \n",
    "                  or col in ['Weight(kg)', 'BMI', 'AlcoholConsumption']]\n",
    "\n",
    "assembler = VectorAssembler(inputCols=input_features, outputCol=\"features\")\n",
    "\n",
    "# Assemble features for training data\n",
    "train_data = assembler.transform(train_data)\n",
    "\n",
    "# Assemble features for test data\n",
    "test_data = assembler.transform(test_data)\n",
    "\n",
    "# Displaying the count for training and test data\n",
    "print(f\"Number of training records: {train_data.count()}\")\n",
    "print(f\"Number of test records: {test_data.count()}\")"
   ]
  },
  {
   "cell_type": "code",
   "execution_count": 37,
   "id": "eda76241",
   "metadata": {},
   "outputs": [
    {
     "name": "stderr",
     "output_type": "stream",
     "text": [
      "                                                                                \r"
     ]
    },
    {
     "name": "stdout",
     "output_type": "stream",
     "text": [
      "Accuracy: 0.7255\n",
      "Precision: 0.7258\n",
      "Recall: 0.7255\n",
      "F1-Score: 0.7255\n",
      "ROC AUC: 0.8004\n",
      "Confusion Matrix:\n"
     ]
    },
    {
     "name": "stderr",
     "output_type": "stream",
     "text": [
      "[Stage 953:===================================================> (389 + 2) / 401]\r"
     ]
    },
    {
     "name": "stdout",
     "output_type": "stream",
     "text": [
      "+--------------------+----+----+\n",
      "|HeartDisease_indexed| 0.0| 1.0|\n",
      "+--------------------+----+----+\n",
      "|                 0.0|3352|1209|\n",
      "|                 1.0|1343|3392|\n",
      "+--------------------+----+----+\n",
      "\n",
      "\n",
      "========================================\n",
      "\n"
     ]
    },
    {
     "name": "stderr",
     "output_type": "stream",
     "text": [
      "\r",
      "                                                                                \r"
     ]
    }
   ],
   "source": [
    "# initial model\n",
    "lr = LogisticRegression(labelCol=\"HeartDisease_indexed\", featuresCol=\"features\")\n",
    "# train model\n",
    "lr_model = lr.fit(train_data)\n",
    "# prediction and evaluate model\n",
    "results = evaluate_model(lr_model, test_data)\n",
    "for metric, value in results.items():\n",
    "    if metric != \"Confusion Matrix\":\n",
    "        print(f\"{metric}: {value:.4f}\")\n",
    "    else:\n",
    "        print(metric + \":\")\n",
    "        value.show()\n",
    "print(\"\\n\" + \"=\"*40 + \"\\n\")"
   ]
  },
  {
   "cell_type": "code",
   "execution_count": 44,
   "id": "6cd7c3a8",
   "metadata": {},
   "outputs": [
    {
     "data": {
      "image/png": "[encoded data removed]",
      "text/plain": [
       "<Figure size 720x432 with 1 Axes>"
      ]
     },
     "metadata": {
      "needs_background": "light"
     },
     "output_type": "display_data"
    }
   ],
   "source": [
    "import matplotlib.pyplot as plt\n",
    "\n",
    "# Extracting coefficients\n",
    "coefficients = lr_model.coefficients.toArray()\n",
    "\n",
    "# Plotting\n",
    "plt.figure(figsize=(10,6))\n",
    "plt.bar(input_features, coefficients)\n",
    "plt.xticks(rotation=45)\n",
    "plt.ylabel(\"Coefficient Value\")\n",
    "plt.title(\"Feature Importance from Logistic Regression\")\n",
    "plt.show()"
   ]
  },
  {
   "cell_type": "code",
   "execution_count": 37,
   "id": "eff1675b",
   "metadata": {},
   "outputs": [
    {
     "name": "stderr",
     "output_type": "stream",
     "text": [
      "/home/ubuntu/spark-3.2.1-bin-hadoop2.7/python/pyspark/sql/context.py:125: FutureWarning: Deprecated in 3.0.0. Use SparkSession.builder.getOrCreate() instead.\n",
      "  warnings.warn(\n",
      "                                                                                \r"
     ]
    },
    {
     "data": {
      "image/png": "[encoded data removed]",
      "text/plain": [
       "<Figure size 720x432 with 1 Axes>"
      ]
     },
     "metadata": {
      "needs_background": "light"
     },
     "output_type": "display_data"
    }
   ],
   "source": [
    "from pyspark.ml.evaluation import BinaryClassificationEvaluator\n",
    "\n",
    "# Get ROC curve\n",
    "training_summary = lr_model.summary\n",
    "roc = training_summary.roc.toPandas()\n",
    "\n",
    "plt.figure(figsize=(10,6))\n",
    "plt.plot(roc['FPR'], roc['TPR'], label='ROC Curve')\n",
    "plt.xlabel('False Positive Rate')\n",
    "plt.ylabel('True Positive Rate')\n",
    "plt.title('ROC Curve for Logistic Regression')\n",
    "plt.legend()\n",
    "plt.show()"
   ]
  },
  {
   "cell_type": "code",
   "execution_count": 46,
   "id": "7774668e",
   "metadata": {},
   "outputs": [
    {
     "name": "stdout",
     "output_type": "stream",
     "text": [
      "Coefficients:\n",
      "Weight(kg): -0.01901079\n",
      "BMI: 0.05813255\n",
      "AlcoholConsumption: -0.03090109\n",
      "General_Health_indexed: 0.30223094\n",
      "Exercise_indexed: 0.28135559\n",
      "SkinCancer_indexed: 0.59793052\n",
      "OtherCancer_indexed: 0.52136933\n",
      "Depression_indexed: 0.10577972\n",
      "Diabetes_indexed: 0.84045997\n",
      "Arthritis_indexed: 0.69488567\n",
      "Sex_indexed: 1.00157179\n",
      "AgeCategory_indexed: -0.13360644\n",
      "SmokingHistory_indexed: 0.50430731\n",
      "DrinkingAlcohol_indexed: -0.17260441\n",
      "\n",
      "Odds Ratios:\n",
      "Weight(kg): 0.98116878\n",
      "BMI: 1.05985547\n",
      "AlcoholConsumption: 0.96957146\n",
      "General_Health_indexed: 1.35287362\n",
      "Exercise_indexed: 1.32492465\n",
      "SkinCancer_indexed: 1.81835187\n",
      "OtherCancer_indexed: 1.68433247\n",
      "Depression_indexed: 1.11157699\n",
      "Diabetes_indexed: 2.31743268\n",
      "Arthritis_indexed: 2.00348000\n",
      "Sex_indexed: 2.72255776\n",
      "AgeCategory_indexed: 0.87493434\n",
      "SmokingHistory_indexed: 1.65583814\n",
      "DrinkingAlcohol_indexed: 0.84147043\n"
     ]
    }
   ],
   "source": [
    "input_features = [col for col in train_data.columns \n",
    "                  if (col.endswith(\"_indexed\") and col != \"HeartDisease_indexed\") \n",
    "                  or col in ['Weight(kg)', 'BMI', 'AlcoholConsumption']]\n",
    "# Model Coefficients\n",
    "coefficients = lr_model.coefficients.toArray()\n",
    "print(\"Coefficients:\")\n",
    "for feature, coef in zip(input_features, coefficients):\n",
    "    print(f\"{feature}: {coef:.8f}\")\n",
    "\n",
    "# Odds Ratios\n",
    "odds_ratios = np.exp(coefficients)\n",
    "print(\"\\nOdds Ratios:\")\n",
    "for feature, odds in zip(input_features, odds_ratios):\n",
    "    print(f\"{feature}: {odds:.8f}\")"
   ]
  },
  {
   "cell_type": "code",
   "execution_count": 50,
   "id": "5808464d",
   "metadata": {},
   "outputs": [
    {
     "data": {
      "image/png": "[encoded data removed]",
      "text/plain": [
       "<Figure size 720x576 with 1 Axes>"
      ]
     },
     "metadata": {
      "needs_background": "light"
     },
     "output_type": "display_data"
    }
   ],
   "source": [
    "import matplotlib.pyplot as plt\n",
    "import seaborn as sns\n",
    "\n",
    "coefficients = lr_model.coefficients.toArray()\n",
    "plt.figure(figsize=(10, 8))\n",
    "sns.barplot(x=coefficients, y=input_features)\n",
    "plt.title('Coefficient Plot')\n",
    "plt.xlabel('Coefficient Value')\n",
    "plt.ylabel('Features')\n",
    "plt.show()"
   ]
  },
  {
   "cell_type": "code",
   "execution_count": 51,
   "id": "3688c37e",
   "metadata": {},
   "outputs": [
    {
     "data": {
      "image/png": "[encoded data removed]",
      "text/plain": [
       "<Figure size 720x576 with 1 Axes>"
      ]
     },
     "metadata": {
      "needs_background": "light"
     },
     "output_type": "display_data"
    }
   ],
   "source": [
    "import numpy as np\n",
    "\n",
    "odds_ratios = np.exp(coefficients)\n",
    "plt.figure(figsize=(10, 8))\n",
    "sns.barplot(x=odds_ratios, y=input_features)\n",
    "plt.title('Odds Ratio Plot')\n",
    "plt.xlabel('Odds Ratio')\n",
    "plt.ylabel('Features')\n",
    "plt.show()"
   ]
  },
  {
   "cell_type": "code",
   "execution_count": 52,
   "id": "ad668a36",
   "metadata": {},
   "outputs": [
    {
     "name": "stderr",
     "output_type": "stream",
     "text": [
      "/home/ubuntu/spark-3.2.1-bin-hadoop2.7/python/pyspark/sql/context.py:125: FutureWarning: Deprecated in 3.0.0. Use SparkSession.builder.getOrCreate() instead.\n",
      "  warnings.warn(\n",
      "                                                                                \r"
     ]
    },
    {
     "data": {
      "image/png": "[encoded data removed]",
      "text/plain": [
       "<Figure size 576x432 with 1 Axes>"
      ]
     },
     "metadata": {
      "needs_background": "light"
     },
     "output_type": "display_data"
    }
   ],
   "source": [
    "# ROC\n",
    "trainingSummary = lr_model.summary\n",
    "roc = trainingSummary.roc.toPandas()\n",
    "plt.figure(figsize=(8,6))\n",
    "plt.plot(roc['FPR'], roc['TPR'], label='ROC curve (area = %0.2f)' % trainingSummary.areaUnderROC)\n",
    "plt.plot([0, 1], [0, 1], 'k--')\n",
    "plt.xlabel('False Positive Rate')\n",
    "plt.ylabel('True Positive Rate')\n",
    "plt.title('ROC Curve')\n",
    "plt.legend(loc='lower right')\n",
    "plt.show()"
   ]
  },
  {
   "cell_type": "code",
   "execution_count": 55,
   "id": "13047764",
   "metadata": {},
   "outputs": [
    {
     "name": "stderr",
     "output_type": "stream",
     "text": [
      "                                                                                \r"
     ]
    },
    {
     "data": {
      "image/png": "[encoded data removed]",
      "text/plain": [
       "<Figure size 432x288 with 2 Axes>"
      ]
     },
     "metadata": {
      "needs_background": "light"
     },
     "output_type": "display_data"
    }
   ],
   "source": [
    "from pyspark.sql.functions import col\n",
    "\n",
    "# Compute confusion matrix values\n",
    "TP = predictions.filter((col(\"prediction\") == 1) & (col(\"HeartDisease_indexed\") == 1)).count()\n",
    "FP = predictions.filter((col(\"prediction\") == 1) & (col(\"HeartDisease_indexed\") == 0)).count()\n",
    "TN = predictions.filter((col(\"prediction\") == 0) & (col(\"HeartDisease_indexed\") == 0)).count()\n",
    "FN = predictions.filter((col(\"prediction\") == 0) & (col(\"HeartDisease_indexed\") == 1)).count()\n",
    "\n",
    "matrix = [[TN, FP], [FN, TP]]\n",
    "sns.heatmap(matrix, annot=True, fmt='d', cmap='Blues')\n",
    "plt.xlabel('Predicted Label')\n",
    "plt.ylabel('True Label')\n",
    "plt.show()"
   ]
  },
  {
   "cell_type": "code",
   "execution_count": 54,
   "id": "ec24fd40",
   "metadata": {},
   "outputs": [
    {
     "name": "stderr",
     "output_type": "stream",
     "text": [
      "/home/ubuntu/.local/lib/python3.10/site-packages/seaborn/distributions.py:2619: FutureWarning: `distplot` is a deprecated function and will be removed in a future version. Please adapt your code to use either `displot` (a figure-level function with similar flexibility) or `histplot` (an axes-level function for histograms).\n",
      "  warnings.warn(msg, FutureWarning)\n"
     ]
    },
    {
     "data": {
      "image/png": "[encoded data removed]",
      "text/plain": [
       "<Figure size 432x288 with 1 Axes>"
      ]
     },
     "metadata": {
      "needs_background": "light"
     },
     "output_type": "display_data"
    }
   ],
   "source": [
    "probabilities = predictions.select(\"probability\").rdd.map(lambda row: row[0][1]).collect()\n",
    "sns.distplot(probabilities)\n",
    "plt.xlabel('Predicted Probability')\n",
    "plt.ylabel('Density')\n",
    "plt.title('Predicted Probability Distribution')\n",
    "plt.show()"
   ]
  },
  {
   "cell_type": "code",
   "execution_count": 65,
   "id": "fd1ca441",
   "metadata": {},
   "outputs": [
    {
     "name": "stderr",
     "output_type": "stream",
     "text": [
      "[Stage 1587:>                                                       (0 + 2) / 2]\r"
     ]
    },
    {
     "name": "stdout",
     "output_type": "stream",
     "text": [
      "+------------+------+\n",
      "|HeartDisease| count|\n",
      "+------------+------+\n",
      "|          No|167181|\n",
      "|         Yes|166883|\n",
      "+------------+------+\n",
      "\n"
     ]
    },
    {
     "name": "stderr",
     "output_type": "stream",
     "text": [
      "\r",
      "                                                                                \r"
     ]
    }
   ],
   "source": [
    "#balance data by oversampling\n",
    "# Separate the data by class\n",
    "df_no = transformed_df.filter(transformed_df['HeartDisease'] == 'No')\n",
    "df_yes = transformed_df.filter(transformed_df['HeartDisease'] == 'Yes')\n",
    "# Oversample the minority class\n",
    "count_no = df_no.count()\n",
    "df_yes_oversampled = df_yes.sample(withReplacement=True, fraction=factor)\n",
    "# Combine the oversampled minority class DataFrame with the majority class DataFrame\n",
    "balanced_df = df_no.union(df_yes_oversampled)\n",
    "# Verify the balanced data:\n",
    "balanced_df.groupBy('HeartDisease').count().show()"
   ]
  },
  {
   "cell_type": "code",
   "execution_count": 57,
   "id": "40bc0677",
   "metadata": {},
   "outputs": [
    {
     "name": "stderr",
     "output_type": "stream",
     "text": [
      "                                                                                \r"
     ]
    },
    {
     "name": "stdout",
     "output_type": "stream",
     "text": [
      "Number of training records: 234877\n"
     ]
    },
    {
     "name": "stderr",
     "output_type": "stream",
     "text": [
      "[Stage 1123:==========================================>             (6 + 2) / 8]\r"
     ]
    },
    {
     "name": "stdout",
     "output_type": "stream",
     "text": [
      "Number of test records: 99909\n"
     ]
    },
    {
     "name": "stderr",
     "output_type": "stream",
     "text": [
      "\r",
      "[Stage 1123:=================================================>      (7 + 1) / 8]\r",
      "\r",
      "                                                                                \r"
     ]
    }
   ],
   "source": [
    "# Split the data into training and test sets (70% train, 30% test)\n",
    "train_data, test_data = balanced_df.randomSplit([0.7, 0.3], seed=42)\n",
    "\n",
    "# Define a VectorAssembler\n",
    "input_features = [col for col in train_data.columns \n",
    "                  if (col.endswith(\"_indexed\") and col != \"HeartDisease_indexed\") \n",
    "                  or col in ['Weight(kg)', 'BMI', 'AlcoholConsumption']]\n",
    "\n",
    "assembler = VectorAssembler(inputCols=input_features, outputCol=\"features\")\n",
    "\n",
    "# Assemble features for training data\n",
    "train_data = assembler.transform(train_data)\n",
    "\n",
    "# Assemble features for test data\n",
    "test_data = assembler.transform(test_data)\n",
    "\n",
    "# Displaying the count for training and test data\n",
    "print(f\"Number of training records: {train_data.count()}\")\n",
    "print(f\"Number of test records: {test_data.count()}\")"
   ]
  },
  {
   "cell_type": "code",
   "execution_count": 58,
   "id": "33a7b103",
   "metadata": {},
   "outputs": [
    {
     "name": "stderr",
     "output_type": "stream",
     "text": [
      "                                                                                \r"
     ]
    },
    {
     "name": "stdout",
     "output_type": "stream",
     "text": [
      "Accuracy: 0.7177\n",
      "Precision: 0.7177\n",
      "Recall: 0.7177\n",
      "F1-Score: 0.7177\n",
      "ROC AUC: 0.7930\n",
      "Confusion Matrix:\n"
     ]
    },
    {
     "name": "stderr",
     "output_type": "stream",
     "text": [
      "[Stage 1275:==========================================>             (6 + 2) / 8]\r"
     ]
    },
    {
     "name": "stdout",
     "output_type": "stream",
     "text": [
      "+--------------------+-----+-----+\n",
      "|HeartDisease_indexed|  0.0|  1.0|\n",
      "+--------------------+-----+-----+\n",
      "|                 0.0|35790|14134|\n",
      "|                 1.0|14073|35912|\n",
      "+--------------------+-----+-----+\n",
      "\n",
      "\n",
      "========================================\n",
      "\n"
     ]
    },
    {
     "name": "stderr",
     "output_type": "stream",
     "text": [
      "\r",
      "                                                                                \r"
     ]
    }
   ],
   "source": [
    "# initial model\n",
    "lr = LogisticRegression(labelCol=\"HeartDisease_indexed\", featuresCol=\"features\")\n",
    "# train model\n",
    "lr_model = lr.fit(train_data)\n",
    "# prediction and evaluate model\n",
    "results = evaluate_model(lr_model, test_data)\n",
    "for metric, value in results.items():\n",
    "    if metric != \"Confusion Matrix\":\n",
    "        print(f\"{metric}: {value:.4f}\")\n",
    "    else:\n",
    "        print(metric + \":\")\n",
    "        value.show()\n",
    "print(\"\\n\" + \"=\"*40 + \"\\n\")"
   ]
  },
  {
   "cell_type": "code",
   "execution_count": 66,
   "id": "1c741452",
   "metadata": {},
   "outputs": [
    {
     "name": "stderr",
     "output_type": "stream",
     "text": [
      "[Stage 1620:================================================>   (377 + 3) / 401]\r"
     ]
    },
    {
     "name": "stdout",
     "output_type": "stream",
     "text": [
      "+------------+-----+\n",
      "|HeartDisease|count|\n",
      "+------------+-----+\n",
      "|          No|15571|\n",
      "|         Yes|15571|\n",
      "+------------+-----+\n",
      "\n"
     ]
    },
    {
     "name": "stderr",
     "output_type": "stream",
     "text": [
      "\r",
      "[Stage 1620:===================================================>(396 + 2) / 401]\r",
      "\r",
      "                                                                                \r"
     ]
    }
   ],
   "source": [
    "#Separate the data by class\n",
    "df_no = transformed_df.filter(transformed_df['HeartDisease'] == 'No')\n",
    "df_yes = transformed_df.filter(transformed_df['HeartDisease'] == 'Yes')\n",
    "#Undersample the majority class\n",
    "count_yes = df_yes.count()\n",
    "df_no_sampled = df_no.sample(withReplacement=False, fraction=1.0).limit(count_yes)\n",
    "#Combine the undersampled majority class DataFrame with the minority class DataFrame\n",
    "balanced_df = df_no_sampled.union(df_yes)\n",
    "#Verify the balanced data:\n",
    "balanced_df.groupBy('HeartDisease').count().show()"
   ]
  },
  {
   "cell_type": "code",
   "execution_count": 67,
   "id": "3c903e25",
   "metadata": {},
   "outputs": [
    {
     "name": "stderr",
     "output_type": "stream",
     "text": [
      "                                                                                \r"
     ]
    },
    {
     "name": "stdout",
     "output_type": "stream",
     "text": [
      "Number of training records: 24935\n"
     ]
    },
    {
     "name": "stderr",
     "output_type": "stream",
     "text": [
      "[Stage 1650:================================================>   (375 + 2) / 401]\r"
     ]
    },
    {
     "name": "stdout",
     "output_type": "stream",
     "text": [
      "Number of test records: 6207\n"
     ]
    },
    {
     "name": "stderr",
     "output_type": "stream",
     "text": [
      "\r",
      "[Stage 1650:===================================================>(394 + 2) / 401]\r",
      "\r",
      "                                                                                \r"
     ]
    }
   ],
   "source": [
    "# Split the data into training and test sets (80% train, 20% test)\n",
    "train_data, test_data = balanced_df.randomSplit([0.8, 0.2], seed=42)\n",
    "\n",
    "# Define a VectorAssembler\n",
    "input_features = [col for col in train_data.columns \n",
    "                  if (col.endswith(\"_indexed\") and col != \"HeartDisease_indexed\") \n",
    "                  or col in ['Weight(kg)', 'BMI', 'AlcoholConsumption']]\n",
    "\n",
    "assembler = VectorAssembler(inputCols=input_features, outputCol=\"features\")\n",
    "\n",
    "# Assemble features for training data\n",
    "train_data = assembler.transform(train_data)\n",
    "\n",
    "# Assemble features for test data\n",
    "test_data = assembler.transform(test_data)\n",
    "\n",
    "# Displaying the count for training and test data\n",
    "print(f\"Number of training records: {train_data.count()}\")\n",
    "print(f\"Number of test records: {test_data.count()}\")"
   ]
  },
  {
   "cell_type": "code",
   "execution_count": 68,
   "id": "bf0efddf",
   "metadata": {},
   "outputs": [
    {
     "name": "stderr",
     "output_type": "stream",
     "text": [
      "                                                                                \r"
     ]
    },
    {
     "name": "stdout",
     "output_type": "stream",
     "text": [
      "Accuracy: 0.7308\n",
      "Precision: 0.7310\n",
      "Recall: 0.7308\n",
      "F1-Score: 0.7308\n",
      "ROC AUC: 0.8025\n",
      "Confusion Matrix:\n"
     ]
    },
    {
     "name": "stderr",
     "output_type": "stream",
     "text": [
      "[Stage 1862:===================================================>(398 + 2) / 401]\r"
     ]
    },
    {
     "name": "stdout",
     "output_type": "stream",
     "text": [
      "+--------------------+----+----+\n",
      "|HeartDisease_indexed| 0.0| 1.0|\n",
      "+--------------------+----+----+\n",
      "|                 0.0|2252| 804|\n",
      "|                 1.0| 867|2284|\n",
      "+--------------------+----+----+\n",
      "\n",
      "\n",
      "========================================\n",
      "\n"
     ]
    },
    {
     "name": "stderr",
     "output_type": "stream",
     "text": [
      "\r",
      "                                                                                \r"
     ]
    }
   ],
   "source": [
    "# initial model\n",
    "lr = LogisticRegression(labelCol=\"HeartDisease_indexed\", featuresCol=\"features\")\n",
    "# train model\n",
    "lr_model = lr.fit(train_data)\n",
    "# prediction and evaluate model\n",
    "results = evaluate_model(lr_model, test_data)\n",
    "for metric, value in results.items():\n",
    "    if metric != \"Confusion Matrix\":\n",
    "        print(f\"{metric}: {value:.4f}\")\n",
    "    else:\n",
    "        print(metric + \":\")\n",
    "        value.show()\n",
    "print(\"\\n\" + \"=\"*40 + \"\\n\")"
   ]
  },
  {
   "cell_type": "code",
   "execution_count": null,
   "id": "6200a176",
   "metadata": {},
   "outputs": [],
   "source": []
  }
 ],
 "metadata": {
  "kernelspec": {
   "display_name": "Python 3 (ipykernel)",
   "language": "python",
   "name": "python3"
  },
  "language_info": {
   "codemirror_mode": {
    "name": "ipython",
    "version": 3
   },
   "file_extension": ".py",
   "mimetype": "text/x-python",
   "name": "python",
   "nbconvert_exporter": "python",
   "pygments_lexer": "ipython3",
   "version": "3.10.12"
  }
 },
 "nbformat": 4,
 "nbformat_minor": 5
}
